{
 "cells": [
  {
   "cell_type": "markdown",
   "metadata": {},
   "source": [
    "### 토픽 3 ) 프로그래밍과 데이터 in python\n",
    "\n",
    "#### < 리스트 >"
   ]
  },
  {
   "cell_type": "code",
   "execution_count": 1,
   "metadata": {},
   "outputs": [
    {
     "name": "stdout",
     "output_type": "stream",
     "text": [
      "[2, 3, 5, 7, 11, 13]\n",
      "['유림', '수민', '아정']\n"
     ]
    }
   ],
   "source": [
    "# 리스트 (list)\n",
    "\n",
    "numbers = [2, 3, 5, 7, 11, 13]\n",
    "names = [\"유림\", \"수민\", \"아정\"]\n",
    "\n",
    "print(numbers)\n",
    "print(names)"
   ]
  },
  {
   "cell_type": "code",
   "execution_count": 2,
   "metadata": {},
   "outputs": [
    {
     "name": "stdout",
     "output_type": "stream",
     "text": [
      "수민\n",
      "10\n"
     ]
    }
   ],
   "source": [
    "# 인덱싱 (indexing)\n",
    "\n",
    "print(names[1])\n",
    "\n",
    "print(numbers[1] + numbers[3])"
   ]
  },
  {
   "cell_type": "code",
   "execution_count": 3,
   "metadata": {},
   "outputs": [
    {
     "name": "stdout",
     "output_type": "stream",
     "text": [
      "10\n"
     ]
    }
   ],
   "source": [
    "num_1 = numbers[1]\n",
    "num_3 = numbers[3]\n",
    "\n",
    "print(num_1 + num_3)"
   ]
  },
  {
   "cell_type": "code",
   "execution_count": 4,
   "metadata": {},
   "outputs": [
    {
     "name": "stdout",
     "output_type": "stream",
     "text": [
      "13\n",
      "2\n"
     ]
    }
   ],
   "source": [
    "print(numbers[-1])\n",
    "print(numbers[-6])"
   ]
  },
  {
   "cell_type": "code",
   "execution_count": 5,
   "metadata": {},
   "outputs": [
    {
     "name": "stdout",
     "output_type": "stream",
     "text": [
      "[2, 3, 5, 7]\n",
      "[5, 7, 11, 13]\n",
      "[2, 3, 5]\n"
     ]
    }
   ],
   "source": [
    "# 리스트 슬라이싱 (list slicing)\n",
    "\n",
    "print(numbers[0:4]) # 0부터 3까지니 헷갈리지 말기\n",
    "\n",
    "print(numbers[2:])\n",
    "\n",
    "print(numbers[:3])"
   ]
  },
  {
   "cell_type": "code",
   "execution_count": 6,
   "metadata": {},
   "outputs": [
    {
     "name": "stdout",
     "output_type": "stream",
     "text": [
      "5\n"
     ]
    }
   ],
   "source": [
    "new_list = numbers[:3] # [2,3,5]\n",
    "print(new_list[2])"
   ]
  },
  {
   "cell_type": "code",
   "execution_count": null,
   "metadata": {},
   "outputs": [],
   "source": []
  },
  {
   "cell_type": "code",
   "execution_count": 7,
   "metadata": {},
   "outputs": [
    {
     "name": "stdout",
     "output_type": "stream",
     "text": [
      "[5]\n"
     ]
    }
   ],
   "source": [
    "numbers = []\n",
    "numbers.append(5) # append는 무조건 오른쪽 끝에 값 추가 (추가연산)\n",
    "print(numbers)"
   ]
  },
  {
   "cell_type": "code",
   "execution_count": 8,
   "metadata": {},
   "outputs": [
    {
     "name": "stdout",
     "output_type": "stream",
     "text": [
      "[5, 8]\n",
      "2\n"
     ]
    }
   ],
   "source": [
    "numbers = []\n",
    "numbers.append(5)\n",
    "numbers.append(8)\n",
    "print(numbers)\n",
    "print(len(numbers))"
   ]
  },
  {
   "cell_type": "code",
   "execution_count": 9,
   "metadata": {},
   "outputs": [
    {
     "name": "stdout",
     "output_type": "stream",
     "text": [
      "[2, 3, 5, 11, 13, 17, 19]\n"
     ]
    }
   ],
   "source": [
    "numbers = [2,3,5,7,11,13,17,19]\n",
    "del numbers[3]\n",
    "print(numbers)"
   ]
  },
  {
   "cell_type": "code",
   "execution_count": 10,
   "metadata": {},
   "outputs": [
    {
     "name": "stdout",
     "output_type": "stream",
     "text": [
      "[2, 3, 5, 7, 3, 11, 13, 17, 19]\n"
     ]
    }
   ],
   "source": [
    "numbers = [2,3,5,7,11,13,17,19]\n",
    "numbers.insert(4, 3) # insert는 원하는 위치에 값 삽입 (삽입연산)\n",
    "print(numbers)"
   ]
  },
  {
   "cell_type": "code",
   "execution_count": 94,
   "metadata": {},
   "outputs": [
    {
     "name": "stdout",
     "output_type": "stream",
     "text": [
      "[2, 3, 5, 7, 11, 13, 17, 19]\n"
     ]
    }
   ],
   "source": [
    "numbers = [19, 13, 2, 5, 3, 11, 7, 17]\n",
    "\n",
    "new_list = sorted(numbers)\n",
    "print(new_list)"
   ]
  },
  {
   "cell_type": "code",
   "execution_count": 95,
   "metadata": {},
   "outputs": [
    {
     "name": "stdout",
     "output_type": "stream",
     "text": [
      "[19, 17, 13, 11, 7, 5, 3, 2]\n"
     ]
    }
   ],
   "source": [
    "numbers = [19, 13, 2, 5, 3, 11, 7, 17]\n",
    "\n",
    "new_list = sorted(numbers, reverse = True)\n",
    "print(new_list)"
   ]
  },
  {
   "cell_type": "code",
   "execution_count": 96,
   "metadata": {},
   "outputs": [
    {
     "name": "stdout",
     "output_type": "stream",
     "text": [
      "[19, 13, 2, 5, 3, 11, 7, 17]\n"
     ]
    }
   ],
   "source": [
    "numbers = [19, 13, 2, 5, 3, 11, 7, 17]\n",
    "\n",
    "new_list = sorted(numbers, reverse = True)\n",
    "print(numbers) # 이렇게 출력하면 그냥 기존의 리스트가 나온다"
   ]
  },
  {
   "cell_type": "markdown",
   "metadata": {},
   "source": [
    "#### sorted 함수는 numbers 라는 리스트를 전혀 건들지 않고, 정렬된 새로운 리스트를 만들어 리턴할 뿐이다.\n",
    "#### sort는 아무것도 리턴하지 않는다. 그 대신 numbers 라는 리스트 자체를 정렬한다."
   ]
  },
  {
   "cell_type": "code",
   "execution_count": 97,
   "metadata": {},
   "outputs": [
    {
     "name": "stdout",
     "output_type": "stream",
     "text": [
      "None\n"
     ]
    }
   ],
   "source": [
    "numbers = [19, 13, 2, 5, 3, 11, 7, 17]\n",
    "\n",
    "print(numbers.sort())"
   ]
  },
  {
   "cell_type": "code",
   "execution_count": 99,
   "metadata": {},
   "outputs": [
    {
     "name": "stdout",
     "output_type": "stream",
     "text": [
      "[19, 17, 13, 11, 7, 5, 3, 2]\n"
     ]
    }
   ],
   "source": [
    "# 그래서 정렬된거 보려면,\n",
    "\n",
    "numbers = [19, 13, 2, 5, 3, 11, 7, 17]\n",
    "numbers.sort(reverse = True)\n",
    "print(numbers)"
   ]
  },
  {
   "cell_type": "code",
   "execution_count": null,
   "metadata": {},
   "outputs": [],
   "source": [
    "numbers = [19, 13, 2, 5, 3, 11, 7, 17]\n",
    "numbers.sort()\n",
    "print(numbers)"
   ]
  },
  {
   "cell_type": "code",
   "execution_count": null,
   "metadata": {},
   "outputs": [],
   "source": []
  },
  {
   "cell_type": "code",
   "execution_count": null,
   "metadata": {},
   "outputs": [],
   "source": []
  },
  {
   "cell_type": "code",
   "execution_count": 11,
   "metadata": {},
   "outputs": [
    {
     "name": "stdout",
     "output_type": "stream",
     "text": [
      "안녕\n",
      "니하오\n",
      "곤니찌와\n",
      "올라\n",
      "싸와디캅\n",
      "헬로\n",
      "봉주르\n"
     ]
    }
   ],
   "source": [
    "greetings = [\"안녕\", \"니하오\", \"곤니찌와\", \"올라\", \"싸와디캅\", \"헬로\", \"봉주르\"]\n",
    "\n",
    "# greetings 리스트의 원소를 모두 출력하는 프로그램을 작성해 보세요. (한 줄에 한 단어씩)\n",
    "# while문과 리스트의 개념을 활용하시면 됩니다.\n",
    "\n",
    "i = 0\n",
    "while i < len(greetings):\n",
    "    print(greetings[i])\n",
    "    i += 1"
   ]
  },
  {
   "cell_type": "code",
   "execution_count": 93,
   "metadata": {},
   "outputs": [],
   "source": [
    "# 화씨 온도(°F)를 섭씨 온도(°C)로 바꾸어주는 프로그램을 만들려고 합니다.\n",
    "# 화씨 온도를 섭씨 온도로 변환해 주는 함수 fahrenheit_to_celsius를 써 보세요.\n",
    "# 이 함수를 파라미터로 화씨 온도 fahrenheit를 받고, 변환된 섭씨 온도를 리턴합니다."
   ]
  },
  {
   "cell_type": "code",
   "execution_count": 43,
   "metadata": {},
   "outputs": [
    {
     "name": "stdout",
     "output_type": "stream",
     "text": [
      "화씨 온도 리스트: [40, 15, 32, 64, -4, 11]\n",
      "섭씨 온도 리스트: [4.4, -9.4, 0.0, 17.8, -20.0, -11.7]\n"
     ]
    }
   ],
   "source": [
    "fahrenheit = [40, 15, 32, 64, -4, 11]\n",
    "celsius = []\n",
    "\n",
    "n = 0\n",
    "\n",
    "while n < len(fahrenheit) :\n",
    "    fah = fahrenheit[n]\n",
    "    cel = ((fah - 32) * 5) / 9\n",
    "    new_cel = round(cel,1)\n",
    "    celsius.append(new_cel)\n",
    "\n",
    "    n += 1\n",
    "print(\"화씨 온도 리스트: {}\".format(fahrenheit))    \n",
    "print(\"섭씨 온도 리스트: {}\".format(celsius))"
   ]
  },
  {
   "cell_type": "code",
   "execution_count": 44,
   "metadata": {},
   "outputs": [
    {
     "name": "stdout",
     "output_type": "stream",
     "text": [
      "화씨 온도 리스트: [40, 15, 32, 64, -4, 11]\n",
      "섭씨 온도 리스트: [4.4, -9.4, 0.0, 17.8, -20.0, -11.7]\n"
     ]
    }
   ],
   "source": [
    "# 모범 답안\n",
    "\n",
    "def fahrenheit_to_celsius(fahrenheit):\n",
    "    return (fahrenheit - 32) * 5 / 9\n",
    "\n",
    "\n",
    "temperature_list = [40, 15, 32, 64, -4, 11]\n",
    "print(\"화씨 온도 리스트: {}\".format(temperature_list))  # 화씨 온도 출력\n",
    "\n",
    "# 리스트의 값들을 화씨에서 섭씨로 변환하는 코드\n",
    "i = 0\n",
    "while i < len(temperature_list):\n",
    "    temperature_list[i] = round(fahrenheit_to_celsius(temperature_list[i]), 1)\n",
    "    i += 1\n",
    "print(\"섭씨 온도 리스트: {}\".format(temperature_list))  # 섭씨 온도 출력"
   ]
  },
  {
   "cell_type": "code",
   "execution_count": 50,
   "metadata": {},
   "outputs": [
    {
     "name": "stdout",
     "output_type": "stream",
     "text": [
      "한국 화폐: [34000, 13000, 5000, 21000, 1000, 2000, 8000, 3000]\n",
      "미국 화폐: [34.0, 13.0, 5.0, 21.0, 1.0, 2.0, 8.0, 3.0]\n",
      "일본 화폐: [4250.0, 1625.0, 625.0, 2625.0, 125.0, 250.0, 1000.0, 375.0]\n"
     ]
    }
   ],
   "source": [
    "prices = [34000, 13000, 5000, 21000, 1000, 2000, 8000, 3000]\n",
    "America_prices = []\n",
    "Japan_prices = []\n",
    "\n",
    "n = 0\n",
    "\n",
    "while n < len(prices) :\n",
    "    price = prices[n] / 1000\n",
    "    new_price = round(price,1)\n",
    "    \n",
    "    America_prices.append(new_price)\n",
    "\n",
    "    n += 1\n",
    "    \n",
    "n = 0\n",
    "    \n",
    "while n < len(America_prices) :\n",
    "    America_price = (America_prices[n] * 125)\n",
    "    new_price2 = round(America_price,1)\n",
    "    \n",
    "    Japan_prices.append(new_price2)\n",
    "\n",
    "    n += 1    \n",
    "\n",
    "\n",
    "print(\"한국 화폐: {}\".format(prices))\n",
    "print(\"미국 화폐: {}\".format(America_prices))\n",
    "print(\"일본 화폐: {}\".format(Japan_prices))"
   ]
  },
  {
   "cell_type": "code",
   "execution_count": 51,
   "metadata": {},
   "outputs": [
    {
     "name": "stdout",
     "output_type": "stream",
     "text": [
      "한국 화폐: [34000, 13000, 5000, 21000, 1000, 2000, 8000, 3000]\n",
      "미국 화폐: [34.0, 13.0, 5.0, 21.0, 1.0, 2.0, 8.0, 3.0]\n",
      "일본 화폐: [4250.0, 1625.0, 625.0, 2625.0, 125.0, 250.0, 1000.0, 375.0]\n"
     ]
    }
   ],
   "source": [
    "# 모범 답안\n",
    "\n",
    "# 원화(￦)에서 달러($)로 변환하는 함수\n",
    "def krw_to_usd(krw):\n",
    "    return krw / 1000  # 1,000원 당 1달러\n",
    "\n",
    "\n",
    "# 달러($)에서 엔화(￥)로 변환하는 함수\n",
    "def usd_to_jpy(usd):\n",
    "    return usd / 8 * 1000\n",
    "\n",
    "\n",
    "# 원화(￦)로 각각 얼마인가요?\n",
    "prices = [34000, 13000, 5000, 21000, 1000, 2000, 8000, 3000]\n",
    "print(\"한국 화폐: \" + str(prices))\n",
    " \n",
    "# prices를 원화(￦)에서 달러($)로 변환하기\n",
    "i = 0\n",
    "while i < len(prices):\n",
    "    prices[i] = krw_to_usd(prices[i])\n",
    "    i += 1\n",
    "\n",
    "# 달러($)로 각각 얼마인가요?\n",
    "print(\"미국 화폐: \" + str(prices))\n",
    "\n",
    "# prices를 달러($)에서 엔화(￥)로 변환하기\n",
    "i = 0\n",
    "while i < len(prices):\n",
    "    prices[i] = usd_to_jpy(prices[i])\n",
    "    i += 1\n",
    "\n",
    "# 엔화(￥)로 각각 얼마인가요?\n",
    "print(\"일본 화폐: \" + str(prices))"
   ]
  },
  {
   "cell_type": "code",
   "execution_count": 83,
   "metadata": {},
   "outputs": [
    {
     "name": "stdout",
     "output_type": "stream",
     "text": [
      "[]\n",
      "[1, 7, 3, 6, 5, 2, 13, 14]\n",
      "[6, 2, 14]\n",
      "[20, 6, 2, 14]\n",
      "[2, 6, 14, 20]\n"
     ]
    }
   ],
   "source": [
    "numbers = []\n",
    "print(numbers)\n",
    "eight = [1, 7, 3, 6, 5, 2, 13, 14]\n",
    "numbers.append(1), numbers.append(7) ,numbers.append(3), numbers.append(6), numbers.append(5), numbers.append(2), numbers.append(13) ,numbers.append(14)\n",
    "print(numbers)\n",
    "del numbers[0:3]\n",
    "del numbers[1]\n",
    "del numbers[2]\n",
    "print(numbers)\n",
    "numbers.insert(0,20)\n",
    "print(numbers)\n",
    "new_numbers = sorted(numbers)\n",
    "\n",
    "print(new_numbers)"
   ]
  },
  {
   "cell_type": "code",
   "execution_count": 84,
   "metadata": {},
   "outputs": [
    {
     "name": "stdout",
     "output_type": "stream",
     "text": [
      "[]\n",
      "[1, 7, 3, 6, 5, 2, 13, 14]\n",
      "[6, 2, 14]\n",
      "[20, 6, 2, 14]\n",
      "[2, 6, 14, 20]\n"
     ]
    }
   ],
   "source": [
    "# 모범답안\n",
    "\n",
    "# 빈 리스트 만들기\n",
    "numbers = []\n",
    "print(numbers)\n",
    "\n",
    "# numbers에 값들 추가\n",
    "numbers.append(1)\n",
    "numbers.append(7)\n",
    "numbers.append(3)\n",
    "numbers.append(6)\n",
    "numbers.append(5)\n",
    "numbers.append(2)\n",
    "numbers.append(13)\n",
    "numbers.append(14)\n",
    "print(numbers)\n",
    "\n",
    "# numbers에서 홀수 제거\n",
    "i = 0\n",
    "while i < len(numbers):\n",
    "    if numbers[i] % 2 == 1:\n",
    "        del numbers[i]\n",
    "    else:\n",
    "        i += 1\n",
    "print(numbers)\n",
    "\n",
    "# numbers의 인덱스 0 자리에 20이라는 값 삽입\n",
    "numbers.insert(0, 20)\n",
    "print(numbers)\n",
    "\n",
    "# numbers를 정렬해서 출력\n",
    "numbers.sort()\n",
    "print(numbers)"
   ]
  },
  {
   "cell_type": "code",
   "execution_count": 85,
   "metadata": {},
   "outputs": [
    {
     "name": "stdout",
     "output_type": "stream",
     "text": [
      "True\n",
      "False\n"
     ]
    }
   ],
   "source": [
    "# 어떤 값이 리스트에 있는지 확인하는 함수를 써보겠습니다.\n",
    "\n",
    "# value가 some_list의 요소인지 확인\n",
    "def in_list(some_list, value):\n",
    "    i = 0\n",
    "    while i < len(some_list):\n",
    "        # some_list에서 value를 찾으면 True를 리턴\n",
    "        if some_list[i] == value:\n",
    "            return True\n",
    "        i = i + 1\n",
    "\n",
    "    # 만약 some_list에서 value를 발견하지 못했으면 False를 리턴\n",
    "    return False\n",
    "\n",
    "# 테스트\n",
    "primes = [2, 3, 5, 7, 11, 13, 17, 19, 23]\n",
    "print(in_list(primes, 7))\n",
    "print(in_list(primes, 12))"
   ]
  },
  {
   "cell_type": "code",
   "execution_count": 86,
   "metadata": {},
   "outputs": [
    {
     "name": "stdout",
     "output_type": "stream",
     "text": [
      "True\n",
      "False\n"
     ]
    }
   ],
   "source": [
    "primes = [2, 3, 5, 7, 11, 13, 17, 19, 23]\n",
    "print(7 in primes)\n",
    "print(12 in primes)"
   ]
  },
  {
   "cell_type": "code",
   "execution_count": 87,
   "metadata": {},
   "outputs": [
    {
     "name": "stdout",
     "output_type": "stream",
     "text": [
      "False\n",
      "True\n"
     ]
    }
   ],
   "source": [
    "primes = [2, 3, 5, 7, 11, 13, 17, 19, 23]\n",
    "print(7 not in primes)\n",
    "print(12 not in primes)"
   ]
  },
  {
   "cell_type": "code",
   "execution_count": 88,
   "metadata": {},
   "outputs": [
    {
     "name": "stdout",
     "output_type": "stream",
     "text": [
      "[62, 75, 77]\n",
      "[85, 91, 89]\n",
      "62\n",
      "91\n",
      "75.0\n"
     ]
    }
   ],
   "source": [
    "# 리스트 안에는 또 다른 리스트가 있을 수 있습니다. 이를 영어로 nested list라고 부릅니다.\n",
    "\n",
    "# 세 번의 시험을 보는 수업\n",
    "grades = [[62, 75, 77], [78, 81, 86], [85, 91, 89]]\n",
    "\n",
    "# 첫 번째 학생의 성적\n",
    "print(grades[0])\n",
    "\n",
    "# 세 번째 학생의 성적\n",
    "print(grades[2])\n",
    "\n",
    "# 첫 번째 학생의 첫 번째 시험 성적\n",
    "print(grades[0][0])\n",
    "\n",
    "# 세 번째 학생의 두 번째 시험 성적\n",
    "print(grades[2][1])\n",
    "\n",
    "# 첫 번째 시험의 평균\n",
    "print((grades[0][0] + grades[1][0] + grades[2][0]) / 3)"
   ]
  },
  {
   "cell_type": "code",
   "execution_count": 89,
   "metadata": {},
   "outputs": [
    {
     "name": "stdout",
     "output_type": "stream",
     "text": [
      "[1, 3, 5, 7]\n"
     ]
    }
   ],
   "source": [
    "# 저번에 정렬된 새로운 리스트를 리턴시켜주는 sorted 함수를 보여드렸습니다.\n",
    "# some_list.sort()는 새로운 리스트를 생성하지 않고 some_list를 정렬된 상태로 바꿔줍니다.\n",
    "\n",
    "numbers = [5, 3, 7, 1]\n",
    "numbers.sort()\n",
    "print(numbers)"
   ]
  },
  {
   "cell_type": "code",
   "execution_count": 90,
   "metadata": {},
   "outputs": [
    {
     "name": "stdout",
     "output_type": "stream",
     "text": [
      "[1, 7, 3, 5]\n"
     ]
    }
   ],
   "source": [
    "# some_list.reverse()는 some_list의 원소들을 뒤집어진 순서로 배치합니다.\n",
    "\n",
    "numbers = [5, 3, 7, 1]\n",
    "numbers.reverse()\n",
    "print(numbers)"
   ]
  },
  {
   "cell_type": "code",
   "execution_count": 91,
   "metadata": {},
   "outputs": [
    {
     "name": "stdout",
     "output_type": "stream",
     "text": [
      "1\n",
      "2\n"
     ]
    }
   ],
   "source": [
    "# some_list.index(x)는some_list에서 x의 값을 갖고 있는 원소의 인덱스를 리턴해줍니다.\n",
    "\n",
    "members = [\"영훈\", \"윤수\", \"태호\", \"혜린\"]\n",
    "print(members.index(\"윤수\"))\n",
    "print(members.index(\"태호\"))"
   ]
  },
  {
   "cell_type": "code",
   "execution_count": 92,
   "metadata": {},
   "outputs": [
    {
     "name": "stdout",
     "output_type": "stream",
     "text": [
      "['딸기', '당근', '수박', '참외', '메론']\n"
     ]
    }
   ],
   "source": [
    "# some_list.remove(x)는some_list에서 첫 번째로 x의 값을 갖고 있는 원소를 삭제해줍니다.\n",
    "\n",
    "fruits = [\"딸기\", \"당근\", \"파인애플\", \"수박\", \"참외\", \"메론\"]\n",
    "fruits.remove(\"파인애플\")\n",
    "print(fruits)"
   ]
  },
  {
   "cell_type": "markdown",
   "metadata": {},
   "source": [
    "for문"
   ]
  },
  {
   "cell_type": "code",
   "execution_count": 100,
   "metadata": {},
   "outputs": [
    {
     "name": "stdout",
     "output_type": "stream",
     "text": [
      "2\n",
      "3\n",
      "5\n",
      "7\n",
      "11\n",
      "2\n",
      "3\n",
      "5\n",
      "7\n",
      "11\n"
     ]
    }
   ],
   "source": [
    "# while문\n",
    "\n",
    "my_list = [2,3,5,7,11]\n",
    "\n",
    "i = 0\n",
    "while i < len(my_list):\n",
    "    print(my_list[i])\n",
    "    i += 1\n",
    "    \n",
    "# for문 (이 예시에선 상대적으로 while문보다 더 깔끔)\n",
    "\n",
    "my_list = [2,3,5,7,11]\n",
    "for num in my_list :\n",
    "    print(num)"
   ]
  },
  {
   "cell_type": "code",
   "execution_count": 102,
   "metadata": {},
   "outputs": [
    {
     "name": "stdout",
     "output_type": "stream",
     "text": [
      "[1] 파라미터 2개 버전\n",
      "3\n",
      "4\n",
      "5\n",
      "6\n",
      "[2] 파라미터 1개 버전\n",
      "0\n",
      "1\n",
      "2\n",
      "3\n",
      "4\n",
      "[3] 파라미터 3개 버전\n",
      "3\n",
      "6\n",
      "9\n",
      "12\n",
      "15\n"
     ]
    }
   ],
   "source": [
    "# range\n",
    "# 간편, 깔끔, 메모리 효율성\n",
    "\n",
    "print(\"[1] 파라미터 2개 버전\")\n",
    "for i in range(3,7): # start부터 stop-1까지의 범위\n",
    "    print(i)\n",
    "    \n",
    "print(\"[2] 파라미터 1개 버전\")\n",
    "for i in range(5): # 0~4까지, 즉 n이 들어왔으면 n-1까지\n",
    "    print(i)\n",
    "    \n",
    "print(\"[3] 파라미터 3개 버전\")\n",
    "for i in range(3,17,3): # 3부터 16까지 간격 3씩\n",
    "    print(i)"
   ]
  },
  {
   "cell_type": "code",
   "execution_count": 103,
   "metadata": {},
   "outputs": [
    {
     "name": "stdout",
     "output_type": "stream",
     "text": [
      "0 2\n",
      "1 3\n",
      "2 5\n",
      "3 7\n",
      "4 11\n",
      "5 13\n",
      "6 17\n",
      "7 19\n",
      "8 23\n",
      "9 29\n",
      "10 31\n"
     ]
    }
   ],
   "source": [
    "# numbers라는 리스트가 주어졌습니다.\n",
    "# for문과 range 함수를 사용하여, numbers의 인덱스와 원소를 출력해 보세요.\n",
    "\n",
    "numbers = [2, 3, 5, 7, 11, 13, 17, 19, 23, 29, 31]\n",
    "\n",
    "for i in range(len(numbers)):\n",
    "       print(\"{} {}\".format(i,numbers[i]))\n",
    "# 모범답안은 print(i, numbers[i]긴 하네요)"
   ]
  },
  {
   "cell_type": "code",
   "execution_count": 105,
   "metadata": {},
   "outputs": [
    {
     "name": "stdout",
     "output_type": "stream",
     "text": [
      "2^0 = 1\n",
      "2^1 = 2\n",
      "2^2 = 4\n",
      "2^3 = 8\n",
      "2^4 = 16\n",
      "2^5 = 32\n",
      "2^6 = 64\n",
      "2^7 = 128\n",
      "2^8 = 256\n",
      "2^9 = 512\n",
      "2^10 = 1024\n"
     ]
    }
   ],
   "source": [
    "# \"2의 n제곱\"을 출력하는 프로그램을 만들려고 합니다.\n",
    "# 코드를 실행하면 아래와 같이 2^0 = 1부터 2^10 = 1024까지 출력되어야 합니다.\n",
    "\n",
    "for i in range(0,11):\n",
    "    print(\"2^{} = {}\".format(i,2**i))"
   ]
  },
  {
   "cell_type": "code",
   "execution_count": 108,
   "metadata": {},
   "outputs": [
    {
     "name": "stdout",
     "output_type": "stream",
     "text": [
      "1 * 1 = 1\n",
      "1 * 2 = 2\n",
      "1 * 3 = 3\n",
      "1 * 4 = 4\n",
      "1 * 5 = 5\n",
      "1 * 6 = 6\n",
      "1 * 7 = 7\n",
      "1 * 8 = 8\n",
      "1 * 9 = 9\n",
      "2 * 1 = 2\n",
      "2 * 2 = 4\n",
      "2 * 3 = 6\n",
      "2 * 4 = 8\n",
      "2 * 5 = 10\n",
      "2 * 6 = 12\n",
      "2 * 7 = 14\n",
      "2 * 8 = 16\n",
      "2 * 9 = 18\n",
      "3 * 1 = 3\n",
      "3 * 2 = 6\n",
      "3 * 3 = 9\n",
      "3 * 4 = 12\n",
      "3 * 5 = 15\n",
      "3 * 6 = 18\n",
      "3 * 7 = 21\n",
      "3 * 8 = 24\n",
      "3 * 9 = 27\n",
      "4 * 1 = 4\n",
      "4 * 2 = 8\n",
      "4 * 3 = 12\n",
      "4 * 4 = 16\n",
      "4 * 5 = 20\n",
      "4 * 6 = 24\n",
      "4 * 7 = 28\n",
      "4 * 8 = 32\n",
      "4 * 9 = 36\n",
      "5 * 1 = 5\n",
      "5 * 2 = 10\n",
      "5 * 3 = 15\n",
      "5 * 4 = 20\n",
      "5 * 5 = 25\n",
      "5 * 6 = 30\n",
      "5 * 7 = 35\n",
      "5 * 8 = 40\n",
      "5 * 9 = 45\n",
      "6 * 1 = 6\n",
      "6 * 2 = 12\n",
      "6 * 3 = 18\n",
      "6 * 4 = 24\n",
      "6 * 5 = 30\n",
      "6 * 6 = 36\n",
      "6 * 7 = 42\n",
      "6 * 8 = 48\n",
      "6 * 9 = 54\n",
      "7 * 1 = 7\n",
      "7 * 2 = 14\n",
      "7 * 3 = 21\n",
      "7 * 4 = 28\n",
      "7 * 5 = 35\n",
      "7 * 6 = 42\n",
      "7 * 7 = 49\n",
      "7 * 8 = 56\n",
      "7 * 9 = 63\n",
      "8 * 1 = 8\n",
      "8 * 2 = 16\n",
      "8 * 3 = 24\n",
      "8 * 4 = 32\n",
      "8 * 5 = 40\n",
      "8 * 6 = 48\n",
      "8 * 7 = 56\n",
      "8 * 8 = 64\n",
      "8 * 9 = 72\n",
      "9 * 1 = 9\n",
      "9 * 2 = 18\n",
      "9 * 3 = 27\n",
      "9 * 4 = 36\n",
      "9 * 5 = 45\n",
      "9 * 6 = 54\n",
      "9 * 7 = 63\n",
      "9 * 8 = 72\n",
      "9 * 9 = 81\n"
     ]
    }
   ],
   "source": [
    "# 구구단 프로그램을 while문이 아닌 for문을 사용해서 만들어 보세요.\n",
    "\n",
    "for i in range(1,10):\n",
    "    for v in range(1,10):\n",
    "        print(\"{} * {} = {}\".format(i,v,i*v))"
   ]
  },
  {
   "cell_type": "code",
   "execution_count": null,
   "metadata": {},
   "outputs": [],
   "source": [
    "# '피타고라스 정리'라고 들어 보셨나요? 직각삼각형에서, 빗변의 제곱이 두 직각변의 제곱의 합과 같다는 정리입니다.\n",
    "\n",
    "# 거기서 나온 '피타고라스 삼조'라는 개념이 있는데요. 피타고라스 삼조란, 피타고라스 정리(a^2 + b^2 = c^2)\n",
    "# 를 만족하는 세 자연수 쌍 (a,b,c)입니다.\n",
    "\n",
    "# 예를 들어, 3^2 + 4^2 = 5^2 이기에 (3,4,5) 는 피타고라스 삼조입니다.\n",
    "# a < b < c라고 가정할 때, a+b+c=400을 만족하는 피타고라스 삼조 (a,b,c)는 단 하나인데요.\n",
    "# 이 경우, a * b * c는 얼마인가요?\n",
    "\n",
    "c**2 == (a**2 + b**2)\n",
    "\n"
   ]
  },
  {
   "cell_type": "code",
   "execution_count": 168,
   "metadata": {},
   "outputs": [
    {
     "name": "stdout",
     "output_type": "stream",
     "text": [
      "2040000\n"
     ]
    }
   ],
   "source": [
    "for a in range(1, 400):\n",
    "        for b in range(1, 400):\n",
    "            c = 400-a-b\n",
    "            if a * a + b * b == c * c and a < b < c and a + b + c == 400:\n",
    "                print(a*b*c)"
   ]
  },
  {
   "cell_type": "code",
   "execution_count": 141,
   "metadata": {},
   "outputs": [
    {
     "name": "stdout",
     "output_type": "stream",
     "text": [
      "뒤집어진 리스트: [19, 17, 13, 11, 7, 5, 3, 2]\n"
     ]
    }
   ],
   "source": [
    "# 리스트 원소들의 순서를 거꾸로 뒤집으려고 합니다.\n",
    "# numbers라는 리스트가 주어졌을 때, for문을 사용하여 리스트를 거꾸로 뒤집어 보세요!\n",
    "\n",
    "numbers = [2, 3, 5, 7, 11, 13, 17, 19]\n",
    "number = []\n",
    "\n",
    "for i in range(1,len(numbers)+1):\n",
    "    #print(numbers[len(numbers)-i])\n",
    "    source = numbers[len(numbers)-i]\n",
    "    number.append(source)\n",
    "    \n",
    "# print(number)\n",
    "\n",
    "print(\"뒤집어진 리스트: \" + str(number))"
   ]
  },
  {
   "cell_type": "code",
   "execution_count": 142,
   "metadata": {},
   "outputs": [
    {
     "name": "stdout",
     "output_type": "stream",
     "text": [
      "뒤집어진 리스트: [19, 17, 13, 11, 7, 5, 3, 2]\n"
     ]
    }
   ],
   "source": [
    "# 모범답안\n",
    "\n",
    "numbers = [2, 3, 5, 7, 11, 13, 17, 19]\n",
    "\n",
    "# 리스트 뒤집기\n",
    "for left in range(len(numbers) // 2):\n",
    "    # 인덱스 left와 대칭인 인덱스 right 계산    \n",
    "    right = len(numbers) - left - 1\n",
    "\n",
    "    # 위치 바꾸기\n",
    "    numbers[right], numbers[left] = numbers[left], numbers[right]\n",
    "\n",
    "print(\"뒤집어진 리스트: \" + str(numbers))"
   ]
  },
  {
   "cell_type": "markdown",
   "metadata": {},
   "source": [
    "딕셔너리"
   ]
  },
  {
   "cell_type": "code",
   "execution_count": 2,
   "metadata": {},
   "outputs": [
    {
     "name": "stdout",
     "output_type": "stream",
     "text": [
      "<class 'dict'>\n",
      "9\n"
     ]
    }
   ],
   "source": [
    "# 파이썬과의 차이는... 리스트에 비해 순서라는 개념이 없다는 것,\n",
    "# 사전의 키로 꼭 정수값이 필요하지 않다는 것\n",
    "\n",
    "my_dictionary = {\n",
    "    5: 25,\n",
    "    2: 4,\n",
    "    3: 9\n",
    "}\n",
    "print(type(my_dictionary))\n",
    "\n",
    "print(my_dictionary[3])"
   ]
  },
  {
   "cell_type": "code",
   "execution_count": 3,
   "metadata": {},
   "outputs": [
    {
     "name": "stdout",
     "output_type": "stream",
     "text": [
      "{5: 25, 2: 4, 3: 9}\n"
     ]
    }
   ],
   "source": [
    "print(my_dictionary)"
   ]
  },
  {
   "cell_type": "code",
   "execution_count": 4,
   "metadata": {},
   "outputs": [
    {
     "name": "stdout",
     "output_type": "stream",
     "text": [
      "이석진\n"
     ]
    }
   ],
   "source": [
    "my_family = {\n",
    "    '엄마': '김자옥',\n",
    "    '아빠': '이석진',\n",
    "    '아들': '이동민',\n",
    "    '딸': '이지영'\n",
    "}\n",
    "\n",
    "print(my_family['아빠'])"
   ]
  },
  {
   "cell_type": "code",
   "execution_count": 11,
   "metadata": {},
   "outputs": [
    {
     "name": "stdout",
     "output_type": "stream",
     "text": [
      "{'sanitizer': '살균제', 'ambition': '야망', 'conscience': '양심', 'civilization': '문명'}\n",
      "{'sanitizer': '살균제', 'ambition': '야망', 'conscience': '양심', 'civilization': '문명', 'privilege': '특권', 'principle': '원칙'}\n"
     ]
    }
   ],
   "source": [
    "# 실습과제\n",
    "\n",
    "vocab = {\n",
    "    'sanitizer': '살균제',\n",
    "    'ambition': '야망',\n",
    "    'conscience': '양심',\n",
    "    'civilization': '문명'\n",
    "}\n",
    "print(vocab)\n",
    "\n",
    "vocab = {\n",
    "    'sanitizer': '살균제',\n",
    "    'ambition': '야망',\n",
    "    'conscience': '양심',\n",
    "    'civilization': '문명',\n",
    "    'privilege': '특권',\n",
    "    'principle': '원칙'\n",
    "}\n",
    "\n",
    "print(vocab)"
   ]
  },
  {
   "cell_type": "code",
   "execution_count": 13,
   "metadata": {},
   "outputs": [
    {
     "name": "stdout",
     "output_type": "stream",
     "text": [
      "{'sanitizer': '살균제', 'ambition': '야망', 'conscience': '양심', 'civilization': '문명'}\n",
      "{'sanitizer': '살균제', 'ambition': '야망', 'conscience': '양심', 'civilization': '문명', 'privilege': '특권', 'principle': '원칙'}\n"
     ]
    }
   ],
   "source": [
    "# 모범답안\n",
    "\n",
    "vocab = {\n",
    "    'sanitizer': '살균제',\n",
    "    'ambition': '야망',\n",
    "    'conscience': '양심',\n",
    "    'civilization': '문명'\n",
    "}\n",
    "print(vocab)\n",
    "\n",
    "vocab['privilege'] = '특권' # 새로운 단어들 추가하는 방법\n",
    "vocab['principle'] = '원칙'\n",
    "\n",
    "print(vocab)"
   ]
  },
  {
   "cell_type": "code",
   "execution_count": 16,
   "metadata": {},
   "outputs": [
    {
     "name": "stdout",
     "output_type": "stream",
     "text": [
      "dict_values(['김자옥', '이석진', '이동민', '이지영'])\n",
      "True\n",
      "False\n"
     ]
    }
   ],
   "source": [
    "my_family = {\n",
    "    '엄마': '김자옥',\n",
    "    '아빠': '이석진',\n",
    "    '아들': '이동민',\n",
    "    '딸': '이지영'\n",
    "} \n",
    "\n",
    "print(my_family.values())\n",
    "print('이지영' in my_family.values())\n",
    "print('김유림' in my_family.values())"
   ]
  },
  {
   "cell_type": "code",
   "execution_count": 17,
   "metadata": {},
   "outputs": [
    {
     "name": "stdout",
     "output_type": "stream",
     "text": [
      "김자옥\n",
      "이석진\n",
      "이동민\n",
      "이지영\n"
     ]
    }
   ],
   "source": [
    "for value in my_family.values():\n",
    "    print(value)"
   ]
  },
  {
   "cell_type": "code",
   "execution_count": 19,
   "metadata": {},
   "outputs": [
    {
     "name": "stdout",
     "output_type": "stream",
     "text": [
      "dict_keys(['엄마', '아빠', '아들', '딸'])\n"
     ]
    }
   ],
   "source": [
    "print(my_family.keys())"
   ]
  },
  {
   "cell_type": "code",
   "execution_count": 20,
   "metadata": {},
   "outputs": [
    {
     "name": "stdout",
     "output_type": "stream",
     "text": [
      "엄마\n",
      "아빠\n",
      "아들\n",
      "딸\n"
     ]
    }
   ],
   "source": [
    "for key in my_family.keys():\n",
    "    print(key)"
   ]
  },
  {
   "cell_type": "code",
   "execution_count": 21,
   "metadata": {},
   "outputs": [
    {
     "name": "stdout",
     "output_type": "stream",
     "text": [
      "엄마 김자옥\n",
      "아빠 이석진\n",
      "아들 이동민\n",
      "딸 이지영\n"
     ]
    }
   ],
   "source": [
    "for key in my_family.keys():\n",
    "    value = my_family[key]\n",
    "    print(key, value)"
   ]
  },
  {
   "cell_type": "code",
   "execution_count": 22,
   "metadata": {},
   "outputs": [
    {
     "name": "stdout",
     "output_type": "stream",
     "text": [
      "엄마 김자옥\n",
      "아빠 이석진\n",
      "아들 이동민\n",
      "딸 이지영\n"
     ]
    }
   ],
   "source": [
    "for key, value in my_family.items():\n",
    "    print(key, value)"
   ]
  },
  {
   "cell_type": "code",
   "execution_count": 40,
   "metadata": {},
   "outputs": [
    {
     "name": "stdout",
     "output_type": "stream",
     "text": [
      "영-한 단어장\n",
      "{'sanitizer': '살균제', 'ambition': '야망', 'conscience': '양심', 'civilization': '문명', 'privilege': '특권', 'principles': '원칙'}\n",
      "\n",
      "한-영 단어장\n",
      "{'살균제': 'sanitizer', '야망': 'ambition', '양심': 'conscience', '문명': 'civilization', '특권': 'privilege', '원칙': 'principles'}\n"
     ]
    }
   ],
   "source": [
    "# 실습과제\n",
    "\n",
    "# 태호는 영어 단어 공부를 위해서 단어장 프로그램을 만들었습니다.\n",
    "# 하지만 이번에는 영-한으로 공부하는 것이 아니라, 한-영으로 공부를 해 보고 싶습니다.\n",
    "# 사전의 key와 value를 뒤집어 주는 함수 reverse_dict를 작성해 주세요.\n",
    "# reverse_dict는 파라미터로 사전 dict를 받고, key와 value가 뒤집힌 새로운 사전을 리턴합니다.\n",
    "\n",
    "# 언어 사전의 단어와 뜻을 서로 바꿔주는 함수\n",
    "def reverse_dict(dict):\n",
    "    new_dict = {}  # 새로운 사전\n",
    "\n",
    "    for key, value in dict.items():\n",
    "        new_dict[value] = key\n",
    "    \n",
    "    return new_dict  # 변환한 새로운 사전 리턴\n",
    "\n",
    "\n",
    "# 영-한 단어장\n",
    "vocab = {\n",
    "    'sanitizer': '살균제',\n",
    "    'ambition': '야망',\n",
    "    'conscience': '양심',\n",
    "    'civilization': '문명',\n",
    "    'privilege': '특권',\n",
    "    'principles': '원칙'\n",
    "}\n",
    "\n",
    "# 기존 단어장 출력\n",
    "print(\"영-한 단어장\\n{}\\n\".format(vocab))\n",
    "\n",
    "# 변환된 단어장 출력\n",
    "reversed_vocab = reverse_dict(vocab)\n",
    "print(\"한-영 단어장\\n{}\".format(reversed_vocab))"
   ]
  },
  {
   "cell_type": "code",
   "execution_count": 46,
   "metadata": {},
   "outputs": [
    {
     "name": "stdout",
     "output_type": "stream",
     "text": [
      "{'김영자': 11, '강승기': 6, '최만수': 8}\n"
     ]
    }
   ],
   "source": [
    "# 실습과제\n",
    "\n",
    "# 효신이는 매년 국회의원 선거 때마다, 성북구에서 집계 도우미 봉사를 하는데요.\n",
    "# 작년까지는 표를 손수 세다가, 올해부터는 IT 시대에 더 적합한 솔루션을 개발하려고 합니다.\n",
    "\n",
    "# 파이썬 리스트 votes에는 성북구민들의 투표 결과가 저장되어 있습니다.\n",
    "# 리스트 votes의 정보를 토대로, 사전 vote_counter에 후보별 득표수를 정리하는 것이 목표입니다.\n",
    "\n",
    "# 예를 들어서 votes가 ['허유나', '서혜선', '허유나']라고 가정하면,\n",
    "# vote_counter는 {'허유나': 2, '서혜선': 1}이 되어야 하는 거죠.\n",
    "\n",
    "# 투표 결과 리스트\n",
    "votes = ['김영자', '강승기', '최만수', '김영자', '강승기', '강승기', '최만수', '김영자', \\\n",
    "'최만수', '김영자', '최만수', '김영자', '김영자', '최만수', '최만수', '최만수', '강승기', \\\n",
    "'강승기', '김영자', '김영자', '최만수', '김영자', '김영자', '강승기', '김영자']\n",
    "\n",
    "# 후보별 득표수 사전\n",
    "vote_counter = {}\n",
    "\n",
    "# 리스트 votes를 이용해서 사전 vote_counter를 정리하기\n",
    "for name in votes:\n",
    "    \n",
    "    if name not in vote_counter:\n",
    "        vote_counter[name] = 1\n",
    "    else:\n",
    "        vote_counter[name] += 1\n",
    "    \n",
    "    # 코드를 작성하세요.\n",
    "\n",
    "# 후보별 득표수 출력\n",
    "print(vote_counter)"
   ]
  },
  {
   "cell_type": "code",
   "execution_count": 3,
   "metadata": {},
   "outputs": [
    {
     "name": "stdout",
     "output_type": "stream",
     "text": [
      "5\n",
      "3\n"
     ]
    }
   ],
   "source": [
    "x = 5\n",
    "y = x\n",
    "y = 3\n",
    "\n",
    "print(x)\n",
    "print(y)"
   ]
  },
  {
   "cell_type": "code",
   "execution_count": 1,
   "metadata": {},
   "outputs": [
    {
     "name": "stdout",
     "output_type": "stream",
     "text": [
      "[2, 3, 4, 7, 11]\n",
      "[2, 3, 4, 7, 11]\n"
     ]
    }
   ],
   "source": [
    "# Aliasing\n",
    "\n",
    "x = [2, 3, 5, 7, 11]\n",
    "y = x\n",
    "y[2] = 4\n",
    "\n",
    "print(x)\n",
    "print(y)"
   ]
  },
  {
   "cell_type": "code",
   "execution_count": 5,
   "metadata": {},
   "outputs": [
    {
     "name": "stdout",
     "output_type": "stream",
     "text": [
      "[2, 3, 5, 7, 11]\n",
      "[2, 3, 4, 7, 11]\n"
     ]
    }
   ],
   "source": [
    "x = [2, 3, 5, 7, 11]\n",
    "y = list(x)\n",
    "y[2] = 4\n",
    "\n",
    "print(x)\n",
    "print(y)"
   ]
  },
  {
   "cell_type": "code",
   "execution_count": 6,
   "metadata": {},
   "outputs": [
    {
     "name": "stdout",
     "output_type": "stream",
     "text": [
      "A\n",
      "B\n",
      "E\n",
      "J\n"
     ]
    }
   ],
   "source": [
    "# 리스트와 문자열\n",
    "\n",
    "alphabet_list = ['A','B', 'C', 'D', 'E', 'F', 'G', 'H', 'I', 'J']\n",
    "\n",
    "print(alphabet_list[0])\n",
    "print(alphabet_list[1])\n",
    "print(alphabet_list[4])\n",
    "print(alphabet_list[-1])"
   ]
  },
  {
   "cell_type": "code",
   "execution_count": 7,
   "metadata": {},
   "outputs": [
    {
     "name": "stdout",
     "output_type": "stream",
     "text": [
      "A\n",
      "B\n",
      "E\n",
      "J\n"
     ]
    }
   ],
   "source": [
    "alphabet_string = 'ABCDEFGHIJ'\n",
    "\n",
    "print(alphabet_string[0])\n",
    "print(alphabet_string[1])\n",
    "print(alphabet_string[4])\n",
    "print(alphabet_string[-1])"
   ]
  },
  {
   "cell_type": "code",
   "execution_count": 8,
   "metadata": {},
   "outputs": [
    {
     "name": "stdout",
     "output_type": "stream",
     "text": [
      "['A', 'B', 'C', 'D', 'E']\n",
      "['E', 'F', 'G', 'H', 'I', 'J']\n",
      "['A', 'B', 'C', 'D']\n"
     ]
    }
   ],
   "source": [
    "alphabet_list = ['A','B', 'C', 'D', 'E', 'F', 'G', 'H', 'I', 'J']\n",
    "\n",
    "print(alphabet_list[0:5])\n",
    "print(alphabet_list[4:])\n",
    "print(alphabet_list[:4])"
   ]
  },
  {
   "cell_type": "code",
   "execution_count": 9,
   "metadata": {},
   "outputs": [
    {
     "name": "stdout",
     "output_type": "stream",
     "text": [
      "ABCDE\n",
      "EFGHIJ\n",
      "ABCD\n"
     ]
    }
   ],
   "source": [
    "alphabet_string = 'ABCDEFGHIJ'\n",
    "\n",
    "print(alphabet_string[0:5])\n",
    "print(alphabet_string[4:])\n",
    "print(alphabet_string[:4])"
   ]
  },
  {
   "cell_type": "code",
   "execution_count": 10,
   "metadata": {},
   "outputs": [
    {
     "name": "stdout",
     "output_type": "stream",
     "text": [
      "HelloWorld\n",
      "[1, 2, 3, 4, 5, 6, 7, 8]\n"
     ]
    }
   ],
   "source": [
    "str_1 = 'Hello'\n",
    "str_2 = 'World'\n",
    "str_3 = str_1 + str_2\n",
    "print(str_3)\n",
    "\n",
    "list_1 = [1, 2, 3, 4]\n",
    "list_2 = [5, 6, 7, 8]\n",
    "list_3 = list_1 + list_2\n",
    "print(list_3)"
   ]
  },
  {
   "cell_type": "code",
   "execution_count": 11,
   "metadata": {},
   "outputs": [
    {
     "name": "stdout",
     "output_type": "stream",
     "text": [
      "5\n",
      "12\n"
     ]
    }
   ],
   "source": [
    "my_list = [2, 3, 5, 7, 11]\n",
    "print(len(my_list))\n",
    "\n",
    "my_string = 'Hello world!'\n",
    "print(len(my_string))"
   ]
  },
  {
   "cell_type": "code",
   "execution_count": 12,
   "metadata": {},
   "outputs": [
    {
     "name": "stdout",
     "output_type": "stream",
     "text": [
      "[5, 2, 3, 4]\n"
     ]
    }
   ],
   "source": [
    "numbers = [1, 2, 3, 4]\n",
    "numbers[0] = 5\n",
    "print(numbers)"
   ]
  },
  {
   "cell_type": "code",
   "execution_count": 13,
   "metadata": {},
   "outputs": [
    {
     "ename": "TypeError",
     "evalue": "'str' object does not support item assignment",
     "output_type": "error",
     "traceback": [
      "\u001b[1;31m---------------------------------------------------------------------------\u001b[0m",
      "\u001b[1;31mTypeError\u001b[0m                                 Traceback (most recent call last)",
      "\u001b[1;32m<ipython-input-13-a682dc8af6a2>\u001b[0m in \u001b[0;36m<module>\u001b[1;34m\u001b[0m\n\u001b[0;32m      2\u001b[0m \u001b[1;33m\u001b[0m\u001b[0m\n\u001b[0;32m      3\u001b[0m \u001b[0mname\u001b[0m \u001b[1;33m=\u001b[0m \u001b[1;34m'codeit'\u001b[0m\u001b[1;33m\u001b[0m\u001b[1;33m\u001b[0m\u001b[0m\n\u001b[1;32m----> 4\u001b[1;33m \u001b[0mname\u001b[0m\u001b[1;33m[\u001b[0m\u001b[1;36m0\u001b[0m\u001b[1;33m]\u001b[0m \u001b[1;33m=\u001b[0m \u001b[1;34m'C'\u001b[0m\u001b[1;33m\u001b[0m\u001b[1;33m\u001b[0m\u001b[0m\n\u001b[0m\u001b[0;32m      5\u001b[0m \u001b[0mprint\u001b[0m\u001b[1;33m(\u001b[0m\u001b[0mname\u001b[0m\u001b[1;33m)\u001b[0m\u001b[1;33m\u001b[0m\u001b[1;33m\u001b[0m\u001b[0m\n",
      "\u001b[1;31mTypeError\u001b[0m: 'str' object does not support item assignment"
     ]
    }
   ],
   "source": [
    "# 문자열은 리스트와 달리, 수정이 불가능 !!!!\n",
    "\n",
    "name = 'codeit'\n",
    "name[0] = 'C'\n",
    "print(name)"
   ]
  },
  {
   "cell_type": "code",
   "execution_count": 113,
   "metadata": {},
   "outputs": [
    {
     "name": "stdout",
     "output_type": "stream",
     "text": [
      "13501\n"
     ]
    }
   ],
   "source": [
    "# 실습과제\n",
    "\n",
    "# 함수 sum_digit은 파라미터로 정수형 num을 받고, num의 각 자릿수를 더한 값을 리턴합니다.\n",
    "# 예를 들어서 12의 각 자릿수는 1, 2이니까 sum_digit(12)는 3(1 + 2)을 리턴합니다.\n",
    "# 마찬가지로 486의 각 자릿수는 4, 8, 6이니까 sum_digit(486)은 18(4 + 8 + 6)을 리턴하는 거죠.\n",
    "\n",
    "# 여러분이 해야 할 일은 두 가지입니다.\n",
    "\n",
    "# 1. sum_digit 함수를 작성한다.\n",
    "# 2. sum_digit(1)부터 sum_digit(1000)까지의 합을 구해서 출력한다.\n",
    "\n",
    "\n",
    "def sum_digit(num):\n",
    "    a = 0\n",
    "    num = str(num)\n",
    "    \n",
    "    for source in num:\n",
    "        #source = int(source)\n",
    "        \n",
    "        a += int(source) #모범답안이랑은 이거 int 차이때문에 한줄 있냐없냐임\n",
    "        \n",
    "    return a # 이거 안해서 여태 계속 Nonetype 뜨고 ㅋㅋ ㅎㅎ\n",
    "    \n",
    "b = 0\n",
    "\n",
    "for i in range(1, 1001):\n",
    "    b += sum_digit(i)\n",
    "print(b)"
   ]
  },
  {
   "cell_type": "markdown",
   "metadata": {},
   "source": [
    "주민등록번호 YYMMDD-abcdefg는 총 열세 자리인데요.\n",
    "\n",
    "앞의 여섯 자리 YYMMDD는 생년월일을 의미합니다.\n",
    "\n",
    "뒤의 일곱 자리 abcdefg는 살짝 복잡합니다.\n",
    "a → 성별\n",
    "bc → 출생등록지에 해당하는 지방자치단체의 고유번호\n",
    "defg → 임의의 번호\n",
    "\n",
    "보시다시피 많은 부분은 특정 규칙대로 정해져 있는데요.\n",
    "여러분에 대한 몇 가지 정보만 알면, 마지막 네 개 숫자 defg를 제외한 앞의 아홉 자리는 쉽게 알 수 있다는 거죠.\n",
    "\n",
    "그래서 저희는 주민등록번호의 마지막 네 자리 defg만 가려 주는 보안 프로그램을 만들려고 합니다.\n",
    "\n",
    "mask_security_number라는 함수를 정의하려고 하는데요.\n",
    "이 함수는 파라미터로 문자열 security_number를 받고,\n",
    "security_number의 마지막 네 글자를 '*'로 대체한 새 문자열을 리턴합니다.\n",
    "\n",
    "참고로 파라미터 security_number에는 작대기 기호(-)가 포함될 수도 있고, 포함되지 않을 수도 있는데요.\n",
    "작대기 포함 여부와 상관 없이, 마지막 네 글자가 '*'로 대체되어야 합니다!"
   ]
  },
  {
   "cell_type": "code",
   "execution_count": 131,
   "metadata": {},
   "outputs": [
    {
     "name": "stdout",
     "output_type": "stream",
     "text": [
      "880720-123****\n",
      "880720123****\n",
      "930124-765****\n",
      "930124765****\n",
      "761214-235****\n",
      "761214235****\n"
     ]
    }
   ],
   "source": [
    "def mask_security_number(security_number):\n",
    "    #print(security_number[0:10])\n",
    "    \n",
    "    if '-' in security_number:\n",
    "        value = security_number[0:10] + '****'\n",
    "        print(value)\n",
    "        \n",
    "    else :\n",
    "        value = security_number[0:9] + '****'\n",
    "        print(value)\n",
    "        \n",
    "mask_security_number('880720-123****')    \n",
    "mask_security_number('880720123****')\n",
    "mask_security_number('930124-765****')   \n",
    "mask_security_number('930124765****')   \n",
    "mask_security_number('761214-235****')   \n",
    "mask_security_number('761214235****')   "
   ]
  },
  {
   "cell_type": "code",
   "execution_count": 130,
   "metadata": {},
   "outputs": [
    {
     "name": "stdout",
     "output_type": "stream",
     "text": [
      "꺅\n",
      "악\n"
     ]
    }
   ],
   "source": [
    "# in 한 번 혼자 점검..\n",
    "\n",
    "def mask_security_number(security_number):\n",
    "    \n",
    "    if '-' in security_number:\n",
    "        print('꺅')\n",
    "        \n",
    "    else :\n",
    "        print('악')\n",
    "        \n",
    "mask_security_number('880720-123****') \n",
    "mask_security_number('880720123****')  "
   ]
  },
  {
   "cell_type": "code",
   "execution_count": null,
   "metadata": {},
   "outputs": [],
   "source": [
    "# 모범답안 접근법 1\n",
    "\n",
    "def mask_security_number(security_number):\n",
    "    # security_number를 리스트로 변환\n",
    "    num_list = list(security_number)\n",
    "\n",
    "    # 마지막 네 값을 *로 대체\n",
    "    for i in range(len(num_list) - 4, len(num_list)):\n",
    "        num_list[i] = \"*\"\n",
    "\n",
    "    # 리스트를 문자열로 복구\n",
    "    total_str = \"\"\n",
    "    for i in range(len(num_list)):\n",
    "        total_str += num_list[i]\n",
    "\n",
    "    return total_str"
   ]
  },
  {
   "cell_type": "code",
   "execution_count": null,
   "metadata": {},
   "outputs": [],
   "source": [
    "# 접근법 2\n",
    "\n",
    "def mask_security_number(security_number):\n",
    "    num_list = list(security_number)\n",
    "\n",
    "    # 마지막 네 값을 *로 대체\n",
    "    for i in range(len(num_list) - 4, len(num_list)):\n",
    "        num_list[i] = '*'\n",
    "\n",
    "    # 리스트를 문자열로 복구하여 반환\n",
    "    return ''.join(num_list)"
   ]
  },
  {
   "cell_type": "markdown",
   "metadata": {},
   "source": [
    "\"토마토\"나 \"기러기\"처럼 거꾸로 읽어도 똑같은 단어를 '팰린드롬(palindrome)'이라고 부릅니다.\n",
    "\n",
    "팰린드롬 여부를 확인하는 함수 is_palindrome을 작성하려고 하는데요. is_palindrome은 파라미터 word가 팰린드롬이면 True를 리턴하고 팰린드롬이 아니면 False를 리턴합니다.\n",
    "\n",
    "예를 들어서 \"racecar\"과 \"토마토\"는 거꾸로 읽어도 똑같기 때문에 True가 출력되어야 합니다. 그리고 \"hello\"는 거꾸로 읽으면 \"olleh\"가 되기 때문에 False가 나와야 하는 거죠."
   ]
  },
  {
   "cell_type": "code",
   "execution_count": 150,
   "metadata": {},
   "outputs": [
    {
     "name": "stdout",
     "output_type": "stream",
     "text": [
      "True\n",
      "False\n",
      "True\n",
      "True\n",
      "False\n"
     ]
    }
   ],
   "source": [
    "def palindrome(word):\n",
    "    length = len(word)\n",
    "    list = []\n",
    "    \n",
    "    for i in range(0,length):\n",
    "        a = word[(length-1) - i]\n",
    "        list.append(a)\n",
    "    value = ''.join(list) \n",
    "    \n",
    "    if word == value :\n",
    "        print(\"True\")\n",
    "    else :\n",
    "        print(\"False\")\n",
    "\n",
    "palindrome('토마토')\n",
    "palindrome('김유림')\n",
    "palindrome('토마토')\n",
    "palindrome('토마토')\n",
    "palindrome('도토리')"
   ]
  },
  {
   "cell_type": "code",
   "execution_count": null,
   "metadata": {},
   "outputs": [],
   "source": [
    "# 모범답안\n",
    "\n",
    "def is_palindrome(word):\n",
    "    for left in range(len(word) // 2):\n",
    "        # 한 쌍이라도 일치하지 않으면 바로 False를 리턴하고 함수를 끝냄\n",
    "        right = len(word) - left - 1\n",
    "        if word[left] != word[right]:\n",
    "            return False\n",
    "\n",
    "    # for문에서 나왔다면 모든 쌍이 일치\n",
    "    return True\n",
    "\n",
    "\n",
    "# 테스트\n",
    "print(is_palindrome(\"racecar\"))\n",
    "print(is_palindrome(\"stars\"))\n",
    "print(is_palindrome(\"토마토\"))\n",
    "print(is_palindrome(\"kayak\"))\n",
    "print(is_palindrome(\"hello\"))"
   ]
  }
 ],
 "metadata": {
  "kernelspec": {
   "display_name": "Python 3",
   "language": "python",
   "name": "python3"
  },
  "language_info": {
   "codemirror_mode": {
    "name": "ipython",
    "version": 3
   },
   "file_extension": ".py",
   "mimetype": "text/x-python",
   "name": "python",
   "nbconvert_exporter": "python",
   "pygments_lexer": "ipython3",
   "version": "3.8.5"
  }
 },
 "nbformat": 4,
 "nbformat_minor": 4
}
