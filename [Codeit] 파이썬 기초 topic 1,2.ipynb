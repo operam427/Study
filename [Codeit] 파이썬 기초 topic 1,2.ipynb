{
 "cells": [
  {
   "cell_type": "markdown",
   "metadata": {},
   "source": [
    "## Codeit 프로그래밍 기초 in Python\n",
    "\n",
    "추상화 (Abstraction)\n",
    "- 변수 : 값을 저장, 데이터를 어떤 공간에 담아 이름표 붙여주는 것\n",
    "- 함수 : 명령을 저장\n",
    "- 객체\n",
    "\n",
    "파라미터 : 함수에 넘겨주는 값"
   ]
  },
  {
   "cell_type": "markdown",
   "metadata": {},
   "source": [
    "### 토픽 2 ) 프로그래밍 핵심 개념 in python\n",
    "\n",
    "#### < 자료형 >"
   ]
  },
  {
   "cell_type": "code",
   "execution_count": 3,
   "metadata": {},
   "outputs": [
    {
     "name": "stdout",
     "output_type": "stream",
     "text": [
      "11\n",
      "-2\n",
      "11.0\n",
      "-2.0\n",
      "15\n",
      "1\n",
      "8\n",
      "3.5\n",
      "3.5\n",
      "2.3333333333333335\n"
     ]
    }
   ],
   "source": [
    "print(4 + 7) # 덧셈\n",
    "print(2 - 4) # 뺄셈\n",
    "\n",
    "print(4.0 + 7.0) # 덧셈\n",
    "print(2.0 - 4.0) # 뺄셈\n",
    "\n",
    "print(5 * 3) # 곱셈\n",
    "print(7 % 3) # 나머지\n",
    "print(2 ** 3) # 거듭제곱\n",
    "\n",
    "print(7 / 2) # 나누기\n",
    "print(7.0 / 2) # 나누기\n",
    "print(7 / 3) # 나누기"
   ]
  },
  {
   "cell_type": "code",
   "execution_count": 1,
   "metadata": {},
   "outputs": [
    {
     "name": "stdout",
     "output_type": "stream",
     "text": [
      "1\n",
      "2\n",
      "2.0\n",
      "3\n",
      "3.14\n"
     ]
    }
   ],
   "source": [
    "print(7 % 3) # 1 , 나머지가 출력\n",
    "\n",
    "print(8 // 3) # 2 , 몫이 출력\n",
    "print(8.0 // 3) # 2.0, 몫이 출력\n",
    "\n",
    "print(round(3.141592)) # 3, 반올림\n",
    "print(round(3.141592, 2)) # 3, '소수점 둘째자리로 반올림'"
   ]
  },
  {
   "cell_type": "markdown",
   "metadata": {},
   "source": [
    "나눗셈은 정수형으로 해도 매번 소수형으로 나온다. ( / )\n",
    "\n",
    "round : 반올림"
   ]
  },
  {
   "cell_type": "code",
   "execution_count": 2,
   "metadata": {},
   "outputs": [
    {
     "name": "stdout",
     "output_type": "stream",
     "text": [
      "I'm \"excited\" to learn python'\n"
     ]
    }
   ],
   "source": [
    "print(\"I\\'m \\\"excited\\\" to learn python'\")"
   ]
  },
  {
   "cell_type": "markdown",
   "metadata": {},
   "source": [
    "\" \" 안에 \" 또 있고 뭐 이런 식이라면, 내부 \" 이런거 앞에 역슬래시(\\\\) 붙여준다"
   ]
  },
  {
   "cell_type": "code",
   "execution_count": 6,
   "metadata": {},
   "outputs": [
    {
     "name": "stdout",
     "output_type": "stream",
     "text": [
      "3\n",
      "3.0\n",
      "7\n",
      "25\n",
      "제 나이는 24살 입니다\n",
      "8.0\n"
     ]
    }
   ],
   "source": [
    "# 형변환\n",
    "\n",
    "print(int(3.8)) # 3 출력\n",
    "print(float(3)) # 3.0 출력\n",
    "print(int(\"2\") + int(\"5\")) # 7 출력\n",
    "print(str(2) + str(5)) # 25 출력\n",
    "\n",
    "age = 24\n",
    "print(\"제 나이는 \" + str(age) + \"살 입니다\")\n",
    "\n",
    "\n",
    "print( 2 ** 3.0) # 8.0"
   ]
  },
  {
   "cell_type": "markdown",
   "metadata": {},
   "source": [
    "문자열을 포맷팅하는 다양한 방식"
   ]
  },
  {
   "cell_type": "code",
   "execution_count": 2,
   "metadata": {},
   "outputs": [
    {
     "name": "stdout",
     "output_type": "stream",
     "text": [
      "오늘은 2019년 10월 29일입니다\n",
      "오늘은 2019년 10월 29일입니다.\n"
     ]
    }
   ],
   "source": [
    "# 오늘은 2019년 10월 29일 입니다.\n",
    "\n",
    "year = 2019\n",
    "month = 10\n",
    "day = 29\n",
    "\n",
    "print(\"오늘은 \" + str(year) + \"년 \" + str(month) + \"월 \" + str(day) + \"일입니다\")\n",
    "\n",
    "print(\"오늘은 {}년 {}월 {}일입니다.\".format(year, month, day))"
   ]
  },
  {
   "cell_type": "code",
   "execution_count": 3,
   "metadata": {},
   "outputs": [
    {
     "name": "stdout",
     "output_type": "stream",
     "text": [
      "오늘은 2019년 10월 29일입니다.\n"
     ]
    }
   ],
   "source": [
    "date_string = \"오늘은 {}년 {}월 {}일입니다.\"\n",
    "print(date_string.format(year, month, day))"
   ]
  },
  {
   "cell_type": "code",
   "execution_count": 5,
   "metadata": {},
   "outputs": [
    {
     "name": "stdout",
     "output_type": "stream",
     "text": [
      "저는 박지성, 유재석, 빌게이츠를 좋아합니다!\n",
      "저는 유재석, 박지성, 빌게이츠를 좋아합니다!\n"
     ]
    }
   ],
   "source": [
    "print(\"저는 {}, {}, {}를 좋아합니다!\".format(\"박지성\", \"유재석\", \"빌게이츠\"))\n",
    "\n",
    "print(\"저는 {1}, {0}, {2}를 좋아합니다!\".format(\"박지성\", \"유재석\", \"빌게이츠\"))\n"
   ]
  },
  {
   "cell_type": "code",
   "execution_count": 4,
   "metadata": {},
   "outputs": [
    {
     "name": "stdout",
     "output_type": "stream",
     "text": [
      "1 나누기 3은 0.3333333333333333입니다\n",
      "1 나누기 3은 0.33입니다\n"
     ]
    }
   ],
   "source": [
    "num_1 = 1\n",
    "num_2 = 3\n",
    "\n",
    "print(\"{0} 나누기 {1}은 {2}입니다\".format(num_1, num_2, num_1 / num_2 ))\n",
    "\n",
    "print(\"{0} 나누기 {1}은 {2:.2f}입니다\".format(num_1, num_2, num_1 / num_2 ))\n",
    "\n",
    "# f는 소수형 의미, .2는 소수점 둘째자리 반올림 의미"
   ]
  },
  {
   "cell_type": "markdown",
   "metadata": {},
   "source": [
    "가장 오래된 방식 (% 기호)\n",
    "\n",
    "이제는 잘 쓰지 않는, 옛날 방식입니다. %s, %d와 같은 '포맷 스트링'이라는 것을 사용하는데요. C나 자바 등 많은 언어들에서 이와 유사한 방식으로 문자열 포맷팅을 합니다."
   ]
  },
  {
   "cell_type": "code",
   "execution_count": 9,
   "metadata": {},
   "outputs": [
    {
     "name": "stdout",
     "output_type": "stream",
     "text": [
      "제 이름은 최지웅이고 32살입니다.\n"
     ]
    }
   ],
   "source": [
    "name = \"최지웅\"\n",
    "age = 32\n",
    "\n",
    "print(\"제 이름은 %s이고 %d살입니다.\" % (name, age))"
   ]
  },
  {
   "cell_type": "markdown",
   "metadata": {},
   "source": [
    "현재 가장 많이 쓰는 방식 (format 메소드)"
   ]
  },
  {
   "cell_type": "code",
   "execution_count": 10,
   "metadata": {},
   "outputs": [
    {
     "name": "stdout",
     "output_type": "stream",
     "text": [
      "제 이름은 최지웅이고 32살입니다.\n"
     ]
    }
   ],
   "source": [
    "name = \"최지웅\"\n",
    "age = 32\n",
    "\n",
    "print(\"제 이름은 {}이고 {}살입니다.\".format(name, age))"
   ]
  },
  {
   "cell_type": "markdown",
   "metadata": {},
   "source": [
    "새로운 방식 (f-string)\n",
    "\n",
    "파이썬 버전 3.6부터 새롭게 나온 방식입니다.\n",
    "아직 완전히 대중화되지는 않았지만 좋은 평을 받고 있기 때문에,\n",
    "곧 f-string을 더 많이 사용하는 추세로 갈 수 있습니다."
   ]
  },
  {
   "cell_type": "code",
   "execution_count": 11,
   "metadata": {},
   "outputs": [
    {
     "name": "stdout",
     "output_type": "stream",
     "text": [
      "제 이름은 최지웅이고 32살입니다.\n"
     ]
    }
   ],
   "source": [
    "name = \"최지웅\"\n",
    "age = 32\n",
    "\n",
    "print(f\"제 이름은 {name}이고 {age}살입니다.\")"
   ]
  },
  {
   "cell_type": "markdown",
   "metadata": {},
   "source": [
    "불린 (Boolean)"
   ]
  },
  {
   "cell_type": "code",
   "execution_count": 18,
   "metadata": {},
   "outputs": [
    {
     "name": "stdout",
     "output_type": "stream",
     "text": [
      "True\n",
      "False\n",
      "False\n",
      "False\n",
      " \n",
      "True\n",
      "True\n",
      "True\n",
      "False\n",
      " \n",
      "False\n",
      "True\n",
      " \n",
      "True\n",
      "False\n",
      "True\n",
      "True\n",
      "True\n",
      "False\n"
     ]
    }
   ],
   "source": [
    "print(True and True)\n",
    "print(True and False)\n",
    "print(False and True)\n",
    "print(False and False)\n",
    "print(\" \")\n",
    "print(True or True)\n",
    "print(True or False)\n",
    "print(False or True)\n",
    "print(False or False)\n",
    "print(\" \")\n",
    "print(not True)\n",
    "print(not False)\n",
    "print(\" \")\n",
    "print(2 > 1)\n",
    "print(2 < 1)\n",
    "print(3 >= 2)\n",
    "print(3 <= 3)\n",
    "print(2 == 2)\n",
    "print(2 != 2)"
   ]
  },
  {
   "cell_type": "code",
   "execution_count": 21,
   "metadata": {},
   "outputs": [
    {
     "name": "stdout",
     "output_type": "stream",
     "text": [
      "True\n",
      " \n",
      "True\n",
      "False\n"
     ]
    }
   ],
   "source": [
    "print( 2 > 1 and \"Hello\" == \"Hello\")\n",
    "print(\" \")\n",
    "print(not not True)\n",
    "print(not not False)"
   ]
  },
  {
   "cell_type": "code",
   "execution_count": 26,
   "metadata": {},
   "outputs": [
    {
     "name": "stdout",
     "output_type": "stream",
     "text": [
      "<class 'int'>\n",
      "<class 'float'>\n",
      "<class 'str'>\n",
      "<class 'str'>\n",
      "<class 'bool'>\n"
     ]
    }
   ],
   "source": [
    "print(type(3)) # int\n",
    "print(type(3.0)) # float\n",
    "print(type(\"3\")) # str\n",
    "print(type(\"True\")) # str\n",
    "print(type(True)) # bool"
   ]
  },
  {
   "cell_type": "code",
   "execution_count": 28,
   "metadata": {},
   "outputs": [
    {
     "name": "stdout",
     "output_type": "stream",
     "text": [
      "<class 'function'>\n",
      "<class 'builtin_function_or_method'>\n"
     ]
    }
   ],
   "source": [
    "def hello():\n",
    "    print(\"Hello world!\")\n",
    "    \n",
    "print(type(hello))\n",
    "print(type(print)) # 파이썬에 기본적으로 내장되어있는 함수"
   ]
  },
  {
   "cell_type": "markdown",
   "metadata": {},
   "source": [
    "### 토픽 2 ) 프로그래밍 핵심 개념 in python\n",
    "\n",
    "#### < 추상화 >"
   ]
  },
  {
   "cell_type": "markdown",
   "metadata": {},
   "source": [
    "##### = : 등호, 오른쪽 값을 왼쪽 변수에 지정해주는 것\n",
    "##### return : 함수가 값을 돌려주는 것 / 함수를 즉시 종료시키는 것"
   ]
  },
  {
   "cell_type": "code",
   "execution_count": 1,
   "metadata": {},
   "outputs": [
    {
     "name": "stdout",
     "output_type": "stream",
     "text": [
      "9\n"
     ]
    }
   ],
   "source": [
    "def square(x):\n",
    "    return x * x # 9를 리턴\n",
    "\n",
    "print(square(3)) # square(3) 이 9가 되는거임"
   ]
  },
  {
   "cell_type": "code",
   "execution_count": 4,
   "metadata": {},
   "outputs": [
    {
     "name": "stdout",
     "output_type": "stream",
     "text": [
      "함수 시작\n",
      "9\n",
      "Hello World!\n"
     ]
    }
   ],
   "source": [
    "def square(x):\n",
    "    print(\"함수 시작\")\n",
    "    return x * x\n",
    "    print(\"함수 끝\") # 리턴이 함수 종료시켜서 이건 출력이 안 됨, Dead Code (의미x코드)\n",
    "\n",
    "print(square(3))\n",
    "print(\"Hello World!\")"
   ]
  },
  {
   "cell_type": "code",
   "execution_count": 9,
   "metadata": {},
   "outputs": [
    {
     "name": "stdout",
     "output_type": "stream",
     "text": [
      "9\n",
      "None\n"
     ]
    }
   ],
   "source": [
    "def print_square(x):\n",
    "    print(x * x)\n",
    "    \n",
    "def get_square(x):\n",
    "    return x * x\n",
    "\n",
    "print(print_square(3)) # 리턴값이 없어서 none 출력"
   ]
  },
  {
   "cell_type": "markdown",
   "metadata": {},
   "source": [
    "파라미터에게 '기본값(default value)'을 설정할 수 있는데요. 기본값을 설정해 두면, 함수를 호출할 때 꼭 파라미터에 값을 안 넘겨 줘도 됩니다. 이런 파라미터를 '옵셔널 파라미터(optional parameter)'라고 합니다. 필수로 넘겨 줄 필요가 없으니까 '옵셔널'이라고 하는 거죠.\n",
    "\n",
    "아래 코드를 보세요.\n",
    "\n",
    "myself 함수를 호출할 때 한 번은 파라미터 nationality에 들어갈 값을 제공했고, 한 번은 제공하지 않았습니다. 각각 어떻게 출력되는지 살펴보세요."
   ]
  },
  {
   "cell_type": "code",
   "execution_count": 1,
   "metadata": {},
   "outputs": [
    {
     "name": "stdout",
     "output_type": "stream",
     "text": [
      "내 이름은 코드잇\n",
      "나이는 1살\n",
      "국적은 미국\n",
      "\n",
      "내 이름은 코드잇\n",
      "나이는 1살\n",
      "국적은 한국\n"
     ]
    }
   ],
   "source": [
    "def myself(name, age, nationality=\"한국\"):\n",
    "    print(\"내 이름은 {}\".format(name))\n",
    "    print(\"나이는 {}살\".format(age))\n",
    "    print(\"국적은 {}\".format(nationality))\n",
    "\n",
    "\n",
    "myself(\"코드잇\", 1, \"미국\")  # 옵셔널 파라미터를 제공하는 경우\n",
    "print()\n",
    "myself(\"코드잇\", 1)  # 옵셔널 파라미터를 제공하지 않는 경우"
   ]
  },
  {
   "cell_type": "markdown",
   "metadata": {},
   "source": [
    "옵셔널 파라미터는 꼭 마지막에.\n",
    "\n",
    "참고로 옵셔널 파라미터는 모두 마지막에 있어야 합니다.\n",
    "\n",
    "아래처럼 옵셔널 파라미터를 중간에 넣으면 오류가 나옵니다!"
   ]
  },
  {
   "cell_type": "code",
   "execution_count": 1,
   "metadata": {},
   "outputs": [
    {
     "ename": "SyntaxError",
     "evalue": "non-default argument follows default argument (<ipython-input-1-b5ab9b8a6079>, line 1)",
     "output_type": "error",
     "traceback": [
      "\u001b[1;36m  File \u001b[1;32m\"<ipython-input-1-b5ab9b8a6079>\"\u001b[1;36m, line \u001b[1;32m1\u001b[0m\n\u001b[1;33m    def myself(name, nationality=\"한국\", age):\u001b[0m\n\u001b[1;37m               ^\u001b[0m\n\u001b[1;31mSyntaxError\u001b[0m\u001b[1;31m:\u001b[0m non-default argument follows default argument\n"
     ]
    }
   ],
   "source": [
    "def myself(name, nationality=\"한국\", age):\n",
    "    print(\"내 이름은 {}\".format(name))\n",
    "    print(\"나이는 {}살\".format(age))\n",
    "    print(\"국적은 {}\".format(nationality))\n",
    "\n",
    "\n",
    "myself(\"코드잇\", 1)  # 기본값이 설정된 파라미터를 바꾸지 않을 때\n",
    "print()\n",
    "myself(\"코드잇\", \"미국\", 1)  # 기본값이 설정된 파라미터를 바꾸었을 때"
   ]
  },
  {
   "cell_type": "markdown",
   "metadata": {},
   "source": [
    "자주 쓰이는 표현을 더 간략하게 쓸 수 있게 해주는 문법을 'syntactic sugar'라고 합니다."
   ]
  },
  {
   "cell_type": "code",
   "execution_count": null,
   "metadata": {},
   "outputs": [],
   "source": [
    "# 다음 두 줄은 같습니다\n",
    "x = x + 1\n",
    "x += 1\n",
    "\n",
    "# 다음 두 줄은 같습니다\n",
    "x = x + 2\n",
    "x += 2\n",
    "\n",
    "# 다음 두 줄은 같습니다\n",
    "x = x * 2\n",
    "x *= 2\n",
    "\n",
    "# 다음 두 줄은 같습니다\n",
    "x = x - 3\n",
    "x -= 3\n",
    "\n",
    "# 다음 두 줄은 같습니다\n",
    "x = x / 2\n",
    "x /= 2\n",
    "\n",
    "# 다음 두 줄은 같습니다\n",
    "x = x % 7\n",
    "x %= 7"
   ]
  },
  {
   "cell_type": "code",
   "execution_count": 6,
   "metadata": {},
   "outputs": [
    {
     "name": "stdout",
     "output_type": "stream",
     "text": [
      "3\n"
     ]
    }
   ],
   "source": [
    "# scope (범위)\n",
    "\n",
    "def my_function():\n",
    "    x = 3\n",
    "    print(x)\n",
    "    \n",
    "my_function()"
   ]
  },
  {
   "cell_type": "code",
   "execution_count": 8,
   "metadata": {},
   "outputs": [
    {
     "name": "stdout",
     "output_type": "stream",
     "text": [
      "3\n"
     ]
    },
    {
     "ename": "NameError",
     "evalue": "name 'x' is not defined",
     "output_type": "error",
     "traceback": [
      "\u001b[1;31m---------------------------------------------------------------------------\u001b[0m",
      "\u001b[1;31mNameError\u001b[0m                                 Traceback (most recent call last)",
      "\u001b[1;32m<ipython-input-8-da765983def2>\u001b[0m in \u001b[0;36m<module>\u001b[1;34m\u001b[0m\n\u001b[0;32m      4\u001b[0m \u001b[1;33m\u001b[0m\u001b[0m\n\u001b[0;32m      5\u001b[0m \u001b[0mmy_function\u001b[0m\u001b[1;33m(\u001b[0m\u001b[1;33m)\u001b[0m\u001b[1;33m\u001b[0m\u001b[1;33m\u001b[0m\u001b[0m\n\u001b[1;32m----> 6\u001b[1;33m \u001b[0mprint\u001b[0m\u001b[1;33m(\u001b[0m\u001b[0mx\u001b[0m\u001b[1;33m)\u001b[0m\u001b[1;33m\u001b[0m\u001b[1;33m\u001b[0m\u001b[0m\n\u001b[0m",
      "\u001b[1;31mNameError\u001b[0m: name 'x' is not defined"
     ]
    }
   ],
   "source": [
    "# 이건 오류가 난다!\n",
    "\n",
    "def my_function():\n",
    "    x = 3  # 로컬변수라, 이 함수 내에서만 쓸 수 있기 때문이다\n",
    "    print(x)\n",
    "    \n",
    "my_function()\n",
    "print(x) # 이거 땜에 오류"
   ]
  },
  {
   "cell_type": "code",
   "execution_count": 9,
   "metadata": {},
   "outputs": [
    {
     "name": "stdout",
     "output_type": "stream",
     "text": [
      "2\n",
      "2\n"
     ]
    }
   ],
   "source": [
    "x = 2 # 글로벌 변수 : 모든 곳에서 사용 가능\n",
    "\n",
    "def my_function():\n",
    "    print(x)\n",
    "    \n",
    "my_function()\n",
    "print(x)"
   ]
  },
  {
   "cell_type": "code",
   "execution_count": 10,
   "metadata": {},
   "outputs": [
    {
     "name": "stdout",
     "output_type": "stream",
     "text": [
      "3\n",
      "2\n"
     ]
    }
   ],
   "source": [
    "x = 2 # 글로벌 변수 : 모든 곳에서 사용 가능\n",
    "\n",
    "def my_function():\n",
    "    x = 3 # 로컬 변수\n",
    "    print(x)\n",
    "    \n",
    "my_function()\n",
    "print(x)"
   ]
  },
  {
   "cell_type": "markdown",
   "metadata": {},
   "source": [
    "파라미터도 로컬 변수이다.\n",
    "\n",
    "scope는 변수가 사용 가능한 범위를 말하는데,\n",
    "\n",
    "로컬 변수는 변수를 정의한 함수 내에서만 사용 가능하고\n",
    "글로벌 변수는 모든 곳에서 사용 가능하다.\n",
    "\n",
    "함수에서 변수를 사용하면, 로컬 변수를 먼저 찾고나서 글로벌 변수를 찾는다."
   ]
  },
  {
   "cell_type": "code",
   "execution_count": 11,
   "metadata": {},
   "outputs": [
    {
     "name": "stdout",
     "output_type": "stream",
     "text": [
      "반지름이 4면, 넓이는 50.24\n",
      "반지름이 6면, 넓이는 113.03999999999999\n",
      "반지름이 7면, 넓이는 153.86\n"
     ]
    }
   ],
   "source": [
    "# 상수 (Constant), 모든 글자를 대문자로 해야함\n",
    "# 이를 통해, 일반변수와 상수를 쉽게 구분할 수 있다. 또한 어떤 일이 있어도 수정하지 않겠다는 의지를 보여준다.\n",
    "# 강제는 아니지만,, 지켜야 하는 약속 같은 것..\n",
    "\n",
    "PI = 3.14 # 원주율 파이, 처음에 정의되고 한 번도 바뀌지 않는다. 이게 상수\n",
    "\n",
    "# 반지름을 받아서 원의 넓이 계산\n",
    "def calculate_area(r):\n",
    "    return PI*r*r\n",
    "\n",
    "radius = 4 # 반지름\n",
    "print(\"반지름이 {}면, 넓이는 {}\".format(radius, calculate_area(radius)))\n",
    "\n",
    "radius = 6 # 반지름\n",
    "print(\"반지름이 {}면, 넓이는 {}\".format(radius, calculate_area(radius)))\n",
    "\n",
    "radius = 7 # 반지름\n",
    "print(\"반지름이 {}면, 넓이는 {}\".format(radius, calculate_area(radius)))"
   ]
  },
  {
   "cell_type": "code",
   "execution_count": 12,
   "metadata": {},
   "outputs": [
    {
     "name": "stdout",
     "output_type": "stream",
     "text": [
      "False\n",
      "False\n",
      "True\n",
      "True\n",
      "False\n"
     ]
    }
   ],
   "source": [
    "# 실습과제 , 일단 내 풀이 먼저\n",
    "\n",
    "# 어떤 수가 짝수인지 홀수인지 판단해 주는 함수 is_evenly_divisible를 쓰세요.\n",
    "# is_evenly_divisible는 number(수)를 파라미터로 받습니다.\n",
    "# 짝수인 경우, 즉 number가 2로 나누어 떨어질 경우에는 True를 리턴해 줍니다.\n",
    "# 홀수인 경우, 즉 number가 2로 나누어 떨어지지 않을 경우에는 False를 리턴해 줍니다.\n",
    "# 함수 안에는 print문이 아닌, return문을 사용해야 합니다.\n",
    "# 그리고 참고로 불린 개념을 잘 사용하면, 함수 단 한 줄로 작성할 수 있습니다!\n",
    "\n",
    "def is_evenly_divisible(number):\n",
    "    # 코드를 작성하세요\n",
    "    if number % 2 == 0 :\n",
    "        return True\n",
    "    else :\n",
    "        return False\n",
    "\n",
    "# 테스트\n",
    "print(is_evenly_divisible(3))\n",
    "print(is_evenly_divisible(7))\n",
    "print(is_evenly_divisible(8))\n",
    "print(is_evenly_divisible(218))\n",
    "print(is_evenly_divisible(317))"
   ]
  },
  {
   "cell_type": "code",
   "execution_count": 13,
   "metadata": {},
   "outputs": [
    {
     "name": "stdout",
     "output_type": "stream",
     "text": [
      "False\n",
      "False\n",
      "True\n",
      "True\n",
      "False\n"
     ]
    }
   ],
   "source": [
    "# 모범답안\n",
    "\n",
    "def is_evenly_divisible(number):\n",
    "    return number % 2 == 0\n",
    "\n",
    "\n",
    "# 테스트 코드    \n",
    "print(is_evenly_divisible(3))\n",
    "print(is_evenly_divisible(7))\n",
    "print(is_evenly_divisible(8))\n",
    "print(is_evenly_divisible(218))\n",
    "print(is_evenly_divisible(317))"
   ]
  },
  {
   "cell_type": "code",
   "execution_count": 31,
   "metadata": {},
   "outputs": [
    {
     "name": "stdout",
     "output_type": "stream",
     "text": [
      "50000원 지폐: 1장\n",
      "10000원 지폐: 1장\n",
      "5000원 지폐: 1장\n",
      "1000원 지폐: 2장\n",
      "\n",
      "50000원 지폐: 2장\n",
      "10000원 지폐: 2장\n",
      "5000원 지폐: 0장\n",
      "1000원 지폐: 2장\n"
     ]
    }
   ],
   "source": [
    "# 거스름돈 계산기 문제\n",
    "\n",
    "# 현명하게 거스름돈을 계산해 주는 프로그램을 만들려고 합니다.\n",
    "# 예를 들어 33,000원짜리 물건을 사기 위해 100,000원을 냈다면,\n",
    "# 50,000원 1장, 10,000원 1장, 5,000원 1장, 1,000원 2장\n",
    "# 이런 식으로 '가장 적은 수'의 지폐를 거슬러 주는 것입니다. 방금 같은 경우에는 총 5장을 거슬러 준 거죠.\n",
    "\n",
    "# 우리는 calculate_change라는 함수를 작성하려고 하는데요.\n",
    "# 이 함수는 지불한 금액을 나타내는 payment와 물건의 가격을 나타내는 cost를 파라미터로 받습니다.\n",
    "\n",
    "# 아래의 코드에 이어서 깔끔하게 프로그램을 작성해 보세요.\n",
    "\n",
    "def calculate_change(payment, cost):\n",
    "    change = payment - cost\n",
    "    \n",
    "    oman = change // 50000\n",
    "    print(\"50000원 지폐: {}장\".format(oman))\n",
    "    \n",
    "    change = change % 50000\n",
    "    \n",
    "    man = change // 10000\n",
    "    print(\"10000원 지폐: {}장\".format(man))\n",
    "    \n",
    "    change = change % 10000\n",
    "    \n",
    "    ocheon = change // 5000\n",
    "    print(\"5000원 지폐: {}장\".format(ocheon))\n",
    "    \n",
    "    change = change % 5000\n",
    "    \n",
    "    cheon = change // 1000\n",
    "    print(\"1000원 지폐: {}장\".format(cheon))\n",
    "    \n",
    "calculate_change(100000, 33000)\n",
    "print()\n",
    "calculate_change(500000, 378000)"
   ]
  },
  {
   "cell_type": "code",
   "execution_count": 32,
   "metadata": {},
   "outputs": [
    {
     "name": "stdout",
     "output_type": "stream",
     "text": [
      "50000원 지폐: 1장\n",
      "10000원 지폐: 1장\n",
      "5000원 지폐: 1장\n",
      "1000원 지폐: 2장\n",
      "\n",
      "50000원 지폐: 2장\n",
      "10000원 지폐: 2장\n",
      "5000원 지폐: 0장\n",
      "1000원 지폐: 2장\n"
     ]
    }
   ],
   "source": [
    "# 모범답안\n",
    "\n",
    "def calculate_change(payment, cost):\n",
    "    change = payment - cost  # 거스름돈 총액\n",
    "\n",
    "    fifty_count = change // 50000  # 50,000원 지폐\n",
    "    ten_count = (change % 50000) // 10000  # 10,000원 지폐\n",
    "    five_count = (change % 10000) // 5000  # 5,000원 지폐\n",
    "    one_count = (change % 5000) // 1000  # 1,000원 지폐\n",
    "\n",
    "    # 답 출력\n",
    "    print(\"50000원 지폐: {}장\".format(fifty_count))\n",
    "    print(\"10000원 지폐: {}장\".format(ten_count))\n",
    "    print(\"5000원 지폐: {}장\".format(five_count))\n",
    "    print(\"1000원 지폐: {}장\".format(one_count))\n",
    "\n",
    "\n",
    "# 테스트\n",
    "calculate_change(100000, 33000)\n",
    "print()\n",
    "calculate_change(500000, 378000)"
   ]
  },
  {
   "cell_type": "markdown",
   "metadata": {},
   "source": [
    "#### 토픽 2 ) 프로그래밍 핵심 개념 in python\n",
    "\n",
    "#### < 제어문 >"
   ]
  },
  {
   "cell_type": "code",
   "execution_count": 33,
   "metadata": {},
   "outputs": [
    {
     "name": "stdout",
     "output_type": "stream",
     "text": [
      "나는 잘생겼다!\n",
      "나는 잘생겼다!\n",
      "나는 잘생겼다!\n"
     ]
    }
   ],
   "source": [
    "# While문\n",
    "\n",
    "i = 1\n",
    "while i <= 3:\n",
    "    print(\"나는 잘생겼다!\")\n",
    "    i += 1"
   ]
  },
  {
   "cell_type": "code",
   "execution_count": 34,
   "metadata": {},
   "outputs": [
    {
     "name": "stdout",
     "output_type": "stream",
     "text": [
      "2\n",
      "4\n",
      "6\n",
      "8\n",
      "10\n",
      "12\n",
      "14\n",
      "16\n",
      "18\n",
      "20\n",
      "22\n",
      "24\n",
      "26\n",
      "28\n",
      "30\n",
      "32\n",
      "34\n",
      "36\n",
      "38\n",
      "40\n",
      "42\n",
      "44\n",
      "46\n",
      "48\n",
      "50\n",
      "52\n",
      "54\n",
      "56\n",
      "58\n",
      "60\n",
      "62\n",
      "64\n",
      "66\n",
      "68\n",
      "70\n",
      "72\n",
      "74\n",
      "76\n",
      "78\n",
      "80\n",
      "82\n",
      "84\n",
      "86\n",
      "88\n",
      "90\n",
      "92\n",
      "94\n",
      "96\n",
      "98\n",
      "100\n"
     ]
    }
   ],
   "source": [
    "# While 반복문을 활용하여 1 이상 100 이하의 짝수 모두 출력하기\n",
    "\n",
    "i = 1\n",
    "\n",
    "while i <= 50 :\n",
    "    print(i * 2)\n",
    "    i += 1"
   ]
  },
  {
   "cell_type": "code",
   "execution_count": null,
   "metadata": {},
   "outputs": [],
   "source": [
    "# while문을 사용하여, 100 이상의 자연수 중 가장 작은 23의 배수를 출력해 보세요.\n",
    "\n",
    "i = 100\n",
    "\n",
    "# 코드를 입력하세요.\n",
    "\n",
    "while i % 23 != 0 :\n",
    "    i += 1\n",
    "    \n",
    "print(i)"
   ]
  },
  {
   "cell_type": "code",
   "execution_count": 35,
   "metadata": {},
   "outputs": [
    {
     "name": "stdout",
     "output_type": "stream",
     "text": [
      "자켓을 입지 않는다.\n"
     ]
    }
   ],
   "source": [
    "# if문\n",
    "\n",
    "temperature = 16\n",
    "\n",
    "if temperature <= 10 :\n",
    "    print(\"자켓을 입는다.\")\n",
    "else:\n",
    "    print(\"자켓을 입지 않는다.\")"
   ]
  },
  {
   "cell_type": "code",
   "execution_count": 36,
   "metadata": {},
   "outputs": [
    {
     "name": "stdout",
     "output_type": "stream",
     "text": [
      "B\n",
      "F\n",
      "D\n",
      "A\n"
     ]
    }
   ],
   "source": [
    "# 학생들에게 최종 성적을 알려 주는 '학점 계산기'를 만들려고 합니다.\n",
    "\n",
    "# 이 수업에는 50점 만점의 중간고사와 50점 만점의 기말고사가 있는데요.\n",
    "# 두 시험의 점수를 합해서 최종 성적을 내는 방식입니다. 규칙은 다음과 같습니다.\n",
    "\n",
    "# A: 90점 이상\n",
    "# B: 80점 이상 90점 미만\n",
    "# C: 70점 이상 80점 미만\n",
    "# D: 60점 이상 70점 미만\n",
    "# F: 60점 미만\n",
    "# print_grade 함수는 파라미터로 중간고사 점수 midterm_score와\n",
    "# 기말고사 점수 final_score를 받고,최종 성적을 출력합니다.\n",
    "\n",
    "def print_grade(midterm_score, final_score):\n",
    "    total = midterm_score + final_score\n",
    "    # 코드를 쓰세요.\n",
    "    if total >= 90 :\n",
    "        print(\"A\")\n",
    "    elif total >= 80 :\n",
    "        print(\"B\")\n",
    "    elif total >= 70 :\n",
    "        print(\"C\")\n",
    "    elif total >= 60 :\n",
    "        print(\"D\")\n",
    "    else :\n",
    "        print(\"F\")\n",
    "        \n",
    "\n",
    "# 테스트\n",
    "print_grade(40, 45)\n",
    "print_grade(20, 35)\n",
    "print_grade(30, 32)\n",
    "print_grade(50, 45)"
   ]
  },
  {
   "cell_type": "code",
   "execution_count": 37,
   "metadata": {},
   "outputs": [
    {
     "name": "stdout",
     "output_type": "stream",
     "text": [
      "8\n",
      "16\n",
      "32\n",
      "40\n",
      "56\n",
      "64\n",
      "80\n",
      "88\n"
     ]
    }
   ],
   "source": [
    "# while문과 if문을 활용하여, 100 이하의 자연수 중 8의 배수이지만 12의 배수는 아닌 것을 모두 출력하세요.\n",
    "\n",
    "# 예를 들어서 16은 8의 배수이지만 12의 배수가 아니니까 조건에 부합합니다.\n",
    "# 하지만 48은 8의 배수이면서 12의 배수이기도 해서 조건에 부합하지 않습니다.\n",
    "# 실행하면 콘솔에 아래와 같이 출력되어야 합니다.\n",
    "\n",
    "i = 1\n",
    "\n",
    "while i <= 100 :\n",
    "    \n",
    "    if i % 8 == 0 and i % 12 != 0 :\n",
    "        print(i)\n",
    "    \n",
    "    i += 1"
   ]
  },
  {
   "cell_type": "code",
   "execution_count": 38,
   "metadata": {},
   "outputs": [
    {
     "name": "stdout",
     "output_type": "stream",
     "text": [
      "333167\n"
     ]
    }
   ],
   "source": [
    "# 10보다 작은 2 또는 3의 배수는 2, 3, 4, 6, 8, 9이며, 이들의 합은 32입니다.\n",
    "\n",
    "# while문과 if문을 활용하여, 1,000보다 작은 자연수 중 2 또는 3의 배수의 합을 출력하는 프로그램을 써 보세요.\n",
    "\n",
    "i = 1\n",
    "total = 0\n",
    "\n",
    "while i < 1000 :\n",
    "    \n",
    "    if i % 2 == 0 or i % 3 == 0 :\n",
    "        total += i\n",
    "    \n",
    "    i += 1\n",
    "\n",
    "print(total)"
   ]
  },
  {
   "cell_type": "code",
   "execution_count": 39,
   "metadata": {},
   "outputs": [
    {
     "name": "stdout",
     "output_type": "stream",
     "text": [
      "1\n",
      "2\n",
      "3\n",
      "4\n",
      "5\n",
      "6\n",
      "8\n",
      "10\n",
      "12\n",
      "15\n",
      "20\n",
      "24\n",
      "30\n",
      "40\n",
      "60\n",
      "120\n",
      "120의 약수는 총 16개 입니다.\n"
     ]
    }
   ],
   "source": [
    "# 정수 n의 약수는 n을 나누었을 때 나누어 떨어지는 수입니다.\n",
    "# 만약 정수 i가 정수 n의 약수라면, n을 i로 나누었을 때 나머지가 0이 나와야 하는 거죠.\n",
    "# 정수 120의 약수를 모두 출력하고, 총 몇개의 약수가 있는지 출력하는 프로그램을 써 보세요.\n",
    "# 아래처럼 콘솔에 출력되어야 합니다.\n",
    "\n",
    "n = 120\n",
    "i = 1\n",
    "count = 0\n",
    "\n",
    "while n >= i :\n",
    "\n",
    "    if n % i == 0 :\n",
    "        print(i)\n",
    "        count += 1\n",
    "    i += 1\n",
    "    \n",
    "# print(f\"{n}의 약수는 총 {count}개 입니다.\")\n",
    "print(\"{}의 약수는 총 {}개 입니다.\".format(n,count))"
   ]
  },
  {
   "cell_type": "code",
   "execution_count": 1,
   "metadata": {},
   "outputs": [
    {
     "name": "stdout",
     "output_type": "stream",
     "text": [
      "94193324원 차이로 동일 아저씨 말씀이 맞습니다.\n"
     ]
    }
   ],
   "source": [
    "'''1988년 쌍문동에 사는 택이는 바둑 대회 우승 상금으로 5,000만원을 받았습니다. 하지만 바둑 외에는 아는 게 없으니, 이웃 어른들에게 이 돈으로 무엇을 해야 할지 물어보기로 하였습니다.\n",
    "\n",
    "은행에서 근무하는 동일 아저씨는 은행에 돈을 맡겨서 매년 이자로 12%씩 받는 것을 추천하셨습니다. 1년 후인 1989년에는 5,000만원의 12% 이자인 600만원이 더해져 5,600만원이 된다고 하면서요.\n",
    "\n",
    "이 이야기를 들은 미란 아주머니는 고작 12% 때문에 생돈을 은행에 넣느냐며, 얼마 전 지어진 은마아파트를 사라고 추천하셨습니다. 당시 은마아파트의 매매가는 5,000만원이었죠.\n",
    "\n",
    "2016년 기준 은마아파트의 매매가는 11억원인데요. 1988년 은행에 5,000만원을 넣었을 경우 2016년에는 얼마가 있을지 계산하여, 동일 아저씨와 미란 아주머니 중 누구의 말을 듣는 것이 좋았을지 판단해 보세요. 2016년 은행에 얼마가 있을지는 꼭 while문을 사용해서 계산해 주세요!\n",
    "\n",
    "2016년에 은행에 저축해 둔 금액이 더 크면, *원 차이로 동일 아저씨 말씀이 맞습니다.가 출력되도록 하세요. 반대로 은마아파트의 가격이 더 크면, *원 차이로 미란 아주머니 말씀이 맞습니다.가 출력되도록 하세요. 여기서는 꼭 if문을 사용해 주세요!'''\n",
    "\n",
    "money = 50000000\n",
    "year = 1988\n",
    "INTEREST_RATE = 0.12\n",
    "APARTMENT_PRICE_2016 = 1100000000\n",
    "\n",
    "while year < 2016 :\n",
    "    money = money + ( money * INTEREST_RATE )\n",
    "    year += 1\n",
    "    \n",
    "\n",
    "if money > APARTMENT_PRICE_2016 :\n",
    "    print(\"{}원 차이로 동일 아저씨 말씀이 맞습니다.\".format(int(money-APARTMENT_PRICE_2016)))\n",
    "    \n",
    "else : \n",
    "    print(\"{}원 차이로 미란 아주머니 말씀이 맞습니다.\".format(int(APARTMENT_PRICE_2016 - money)))"
   ]
  },
  {
   "cell_type": "code",
   "execution_count": 3,
   "metadata": {},
   "outputs": [
    {
     "name": "stdout",
     "output_type": "stream",
     "text": [
      "1\n",
      "1\n",
      "2\n",
      "3\n",
      "5\n",
      "8\n",
      "13\n",
      "21\n",
      "34\n",
      "55\n",
      "89\n",
      "144\n",
      "233\n",
      "377\n",
      "610\n",
      "987\n",
      "1597\n",
      "2584\n",
      "4181\n",
      "6765\n",
      "10946\n",
      "17711\n",
      "28657\n",
      "46368\n",
      "75025\n",
      "121393\n",
      "196418\n",
      "317811\n",
      "514229\n",
      "832040\n",
      "1346269\n",
      "2178309\n",
      "3524578\n",
      "5702887\n",
      "9227465\n",
      "14930352\n",
      "24157817\n",
      "39088169\n",
      "63245986\n",
      "102334155\n",
      "165580141\n",
      "267914296\n",
      "433494437\n",
      "701408733\n",
      "1134903170\n",
      "1836311903\n",
      "2971215073\n",
      "4807526976\n",
      "7778742049\n",
      "12586269025\n"
     ]
    }
   ],
   "source": [
    "a = 1\n",
    "b = 1\n",
    "n = 1\n",
    "\n",
    "print(a)\n",
    "print(b)\n",
    "\n",
    "while n <= 24 :\n",
    "    a = a+b\n",
    "    print(a)\n",
    "    b = a+b\n",
    "    print(b)\n",
    "    \n",
    "    n+=1"
   ]
  },
  {
   "cell_type": "code",
   "execution_count": 6,
   "metadata": {},
   "outputs": [
    {
     "name": "stdout",
     "output_type": "stream",
     "text": [
      "1 * 1 = 1\n",
      "1 * 2 = 2\n",
      "1 * 3 = 3\n",
      "1 * 4 = 4\n",
      "1 * 5 = 5\n",
      "1 * 6 = 6\n",
      "1 * 7 = 7\n",
      "1 * 8 = 8\n",
      "1 * 9 = 9\n"
     ]
    }
   ],
   "source": [
    "n = 1\n",
    "i = 1\n",
    "\n",
    "while n < 10 :\n",
    "    while i < 10 :\n",
    "        print(\"{} * {} = {}\".format(n,i,n*i))\n",
    "        i += 1\n",
    "    n += 1"
   ]
  },
  {
   "cell_type": "code",
   "execution_count": 16,
   "metadata": {},
   "outputs": [
    {
     "name": "stdout",
     "output_type": "stream",
     "text": [
      "1 * 1 = 1\n",
      "1 * 2 = 2\n",
      "1 * 3 = 3\n",
      "1 * 4 = 4\n",
      "1 * 5 = 5\n",
      "1 * 6 = 6\n",
      "1 * 7 = 7\n",
      "1 * 8 = 8\n",
      "1 * 9 = 9\n",
      "2 * 0 = 0\n",
      "2 * 1 = 2\n",
      "2 * 2 = 4\n",
      "2 * 3 = 6\n",
      "2 * 4 = 8\n",
      "2 * 5 = 10\n",
      "2 * 6 = 12\n",
      "2 * 7 = 14\n",
      "2 * 8 = 16\n",
      "2 * 9 = 18\n",
      "3 * 0 = 0\n",
      "3 * 1 = 3\n",
      "3 * 2 = 6\n",
      "3 * 3 = 9\n",
      "3 * 4 = 12\n",
      "3 * 5 = 15\n",
      "3 * 6 = 18\n",
      "3 * 7 = 21\n",
      "3 * 8 = 24\n",
      "3 * 9 = 27\n",
      "4 * 0 = 0\n",
      "4 * 1 = 4\n",
      "4 * 2 = 8\n",
      "4 * 3 = 12\n",
      "4 * 4 = 16\n",
      "4 * 5 = 20\n",
      "4 * 6 = 24\n",
      "4 * 7 = 28\n",
      "4 * 8 = 32\n",
      "4 * 9 = 36\n",
      "5 * 0 = 0\n",
      "5 * 1 = 5\n",
      "5 * 2 = 10\n",
      "5 * 3 = 15\n",
      "5 * 4 = 20\n",
      "5 * 5 = 25\n",
      "5 * 6 = 30\n",
      "5 * 7 = 35\n",
      "5 * 8 = 40\n",
      "5 * 9 = 45\n",
      "6 * 0 = 0\n",
      "6 * 1 = 6\n",
      "6 * 2 = 12\n",
      "6 * 3 = 18\n",
      "6 * 4 = 24\n",
      "6 * 5 = 30\n",
      "6 * 6 = 36\n",
      "6 * 7 = 42\n",
      "6 * 8 = 48\n",
      "6 * 9 = 54\n",
      "7 * 0 = 0\n",
      "7 * 1 = 7\n",
      "7 * 2 = 14\n",
      "7 * 3 = 21\n",
      "7 * 4 = 28\n",
      "7 * 5 = 35\n",
      "7 * 6 = 42\n",
      "7 * 7 = 49\n",
      "7 * 8 = 56\n",
      "7 * 9 = 63\n",
      "8 * 0 = 0\n",
      "8 * 1 = 8\n",
      "8 * 2 = 16\n",
      "8 * 3 = 24\n",
      "8 * 4 = 32\n",
      "8 * 5 = 40\n",
      "8 * 6 = 48\n",
      "8 * 7 = 56\n",
      "8 * 8 = 64\n",
      "8 * 9 = 72\n",
      "9 * 0 = 0\n",
      "9 * 1 = 9\n",
      "9 * 2 = 18\n",
      "9 * 3 = 27\n",
      "9 * 4 = 36\n",
      "9 * 5 = 45\n",
      "9 * 6 = 54\n",
      "9 * 7 = 63\n",
      "9 * 8 = 72\n",
      "9 * 9 = 81\n"
     ]
    }
   ],
   "source": [
    "n = 1\n",
    "i = 1\n",
    "\n",
    "while n < 10 :\n",
    "    while i < 10 :\n",
    "        print(\"{} * {} = {}\".format(n,i,n*i))\n",
    "        i += 1\n",
    "    n += 1\n",
    "    i = 1 # 와 이거 안해서 삽질 ㅋㅋㅋㅋㅋㅋㅋ"
   ]
  },
  {
   "cell_type": "code",
   "execution_count": 17,
   "metadata": {},
   "outputs": [
    {
     "name": "stdout",
     "output_type": "stream",
     "text": [
      "115\n"
     ]
    }
   ],
   "source": [
    "# break문\n",
    "\n",
    "i = 100\n",
    "\n",
    "while True:\n",
    "    # i가 23의 배수면 반복문을 끝냄\n",
    "    if i % 23 == 0:\n",
    "        break\n",
    "    i = i + 1\n",
    "\n",
    "print(i)"
   ]
  },
  {
   "cell_type": "code",
   "execution_count": 18,
   "metadata": {},
   "outputs": [
    {
     "name": "stdout",
     "output_type": "stream",
     "text": [
      "2\n",
      "4\n",
      "6\n",
      "8\n",
      "10\n",
      "12\n",
      "14\n"
     ]
    }
   ],
   "source": [
    "# continue문\n",
    "\n",
    "i = 0\n",
    "\n",
    "while i < 15:\n",
    "    i = i + 1\n",
    "\n",
    "    # i가 홀수면 print(i) 안 하고 바로 조건 부분으로 돌아감\n",
    "    if i % 2 == 1:\n",
    "        continue\n",
    "    print(i)"
   ]
  },
  {
   "cell_type": "code",
   "execution_count": 1,
   "metadata": {},
   "outputs": [
    {
     "name": "stdout",
     "output_type": "stream",
     "text": [
      "[2, 3, 5, 7, 11, 13]\n",
      "['유림', '수민', '아정']\n"
     ]
    }
   ],
   "source": [
    "# 리스트 (list)\n",
    "\n",
    "numbers = [2, 3, 5, 7, 11, 13]\n",
    "names = [\"유림\", \"수민\", \"아정\"]\n",
    "\n",
    "print(numbers)\n",
    "print(names)"
   ]
  },
  {
   "cell_type": "code",
   "execution_count": 3,
   "metadata": {},
   "outputs": [
    {
     "name": "stdout",
     "output_type": "stream",
     "text": [
      "수민\n",
      "10\n"
     ]
    }
   ],
   "source": [
    "# 인덱싱 (indexing)\n",
    "\n",
    "print(names[1])\n",
    "\n",
    "print(numbers[1] + numbers[3])"
   ]
  },
  {
   "cell_type": "code",
   "execution_count": 4,
   "metadata": {},
   "outputs": [
    {
     "name": "stdout",
     "output_type": "stream",
     "text": [
      "10\n"
     ]
    }
   ],
   "source": [
    "num_1 = numbers[1]\n",
    "num_3 = numbers[3]\n",
    "\n",
    "print(num_1 + num_3)"
   ]
  },
  {
   "cell_type": "code",
   "execution_count": 5,
   "metadata": {},
   "outputs": [
    {
     "name": "stdout",
     "output_type": "stream",
     "text": [
      "13\n",
      "2\n"
     ]
    }
   ],
   "source": [
    "print(numbers[-1])\n",
    "print(numbers[-6])"
   ]
  },
  {
   "cell_type": "code",
   "execution_count": 9,
   "metadata": {},
   "outputs": [
    {
     "name": "stdout",
     "output_type": "stream",
     "text": [
      "[2, 3, 5, 7]\n",
      "[5, 7, 11, 13]\n",
      "[2, 3, 5]\n"
     ]
    }
   ],
   "source": [
    "# 리스트 슬라이싱 (list slicing)\n",
    "\n",
    "print(numbers[0:4]) # 0부터 3까지니 헷갈리지 말기\n",
    "\n",
    "print(numbers[2:])\n",
    "\n",
    "print(numbers[:3])"
   ]
  },
  {
   "cell_type": "code",
   "execution_count": 11,
   "metadata": {},
   "outputs": [
    {
     "name": "stdout",
     "output_type": "stream",
     "text": [
      "5\n"
     ]
    }
   ],
   "source": [
    "new_list = numbers[:3] # [2,3,5]\n",
    "print(new_list[2])"
   ]
  },
  {
   "cell_type": "code",
   "execution_count": 13,
   "metadata": {},
   "outputs": [
    {
     "name": "stdout",
     "output_type": "stream",
     "text": [
      "[7, 3, 5, 7, 11, 13]\n"
     ]
    }
   ],
   "source": [
    "numbers = [2, 3, 5, 7, 11, 13]\n",
    "\n",
    "numbers[0] = 7\n",
    "\n",
    "print(numbers)"
   ]
  },
  {
   "cell_type": "code",
   "execution_count": 14,
   "metadata": {},
   "outputs": [
    {
     "name": "stdout",
     "output_type": "stream",
     "text": [
      "[5, 3, 5, 7, 11, 13]\n"
     ]
    }
   ],
   "source": [
    "numbers = [2, 3, 5, 7, 11, 13]\n",
    "\n",
    "numbers[0] = numbers[0] + numbers[1]\n",
    "\n",
    "print(numbers)"
   ]
  },
  {
   "cell_type": "code",
   "execution_count": null,
   "metadata": {},
   "outputs": [],
   "source": []
  },
  {
   "cell_type": "code",
   "execution_count": null,
   "metadata": {},
   "outputs": [],
   "source": []
  }
 ],
 "metadata": {
  "kernelspec": {
   "display_name": "Python 3",
   "language": "python",
   "name": "python3"
  },
  "language_info": {
   "codemirror_mode": {
    "name": "ipython",
    "version": 3
   },
   "file_extension": ".py",
   "mimetype": "text/x-python",
   "name": "python",
   "nbconvert_exporter": "python",
   "pygments_lexer": "ipython3",
   "version": "3.8.5"
  }
 },
 "nbformat": 4,
 "nbformat_minor": 4
}
