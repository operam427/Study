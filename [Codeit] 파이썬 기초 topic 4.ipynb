{
 "cells": [
  {
   "cell_type": "markdown",
   "metadata": {},
   "source": [
    "모듈 (다른 파이썬 프로그램에서 사용할 수 있는 파이썬 코드)\n",
    "\n",
    "같은 폴더에 있는 파이썬 파일만 불러올 수 있다.\n",
    "(다른 폴더에 있어도 불러올 수는 있는데, 이번 챕터에선 안 다룰 예정)"
   ]
  },
  {
   "cell_type": "code",
   "execution_count": null,
   "metadata": {},
   "outputs": [],
   "source": [
    "# 파일명 calculator\n",
    "\n",
    "def add(x, y):\n",
    "    return x + y\n",
    "\n",
    "def subtract(x, y):\n",
    "    return x - y\n",
    "\n",
    "def multiply(x, y):\n",
    "    return x * y \n",
    "\n",
    "def divide(x, y):\n",
    "    return x / y "
   ]
  },
  {
   "cell_type": "code",
   "execution_count": null,
   "metadata": {},
   "outputs": [],
   "source": [
    "# 파일명 run\n",
    "\n",
    "import calculator as calc # calculator 라는 모듈을 calc라는 이름으로 불러오겠다\n",
    "\n",
    "print(calc.add(2, 5))\n",
    "print(calc.add(3, 4))"
   ]
  },
  {
   "cell_type": "code",
   "execution_count": null,
   "metadata": {},
   "outputs": [],
   "source": [
    "import numpy as np\n",
    "import pandas as pd"
   ]
  },
  {
   "cell_type": "code",
   "execution_count": null,
   "metadata": {},
   "outputs": [],
   "source": [
    "from calculator import add, multiply # calculator 모듈에서 add, multiply 함수만 불러오겠다\n",
    "\n",
    "# 이렇게 하면 모듈 이름 안 써도 된다\n",
    "\n",
    "print(add(2, 5))\n",
    "\n",
    "print(multiply(3, 4))"
   ]
  },
  {
   "cell_type": "code",
   "execution_count": null,
   "metadata": {},
   "outputs": [],
   "source": [
    "from calculator import * # 모듈 내의 모든 함수를 불러온다는 것\n",
    "# 근데 이 방법 권장 x , 함수들의 출처가 불분명해지므로\n",
    "\n",
    "print(add(2, 5))\n",
    "print(multiply(3, 4))"
   ]
  },
  {
   "cell_type": "markdown",
   "metadata": {},
   "source": [
    "스탠다드 라이브러리 (개발자들이 자주 쓸법한 기능들은 상당부분 이미 만들어져있다)"
   ]
  },
  {
   "cell_type": "code",
   "execution_count": 2,
   "metadata": {},
   "outputs": [
    {
     "name": "stdout",
     "output_type": "stream",
     "text": [
      "2.0\n",
      "1.0\n",
      "3.141592653589793\n"
     ]
    }
   ],
   "source": [
    "import math\n",
    "\n",
    "print(math.log10(100))\n",
    "print(math.cos(0))\n",
    "print(math.pi)"
   ]
  },
  {
   "cell_type": "code",
   "execution_count": 5,
   "metadata": {},
   "outputs": [
    {
     "data": {
      "text/plain": [
       "0.3669188103591341"
      ]
     },
     "execution_count": 5,
     "metadata": {},
     "output_type": "execute_result"
    }
   ],
   "source": [
    "import random # 실행할때마다 다른 결과가 나오는 random 모듈\n",
    "\n",
    "random.random() # 0~1 사이 랜덤한 수가 return"
   ]
  },
  {
   "cell_type": "code",
   "execution_count": 7,
   "metadata": {},
   "outputs": [
    {
     "name": "stdout",
     "output_type": "stream",
     "text": [
      "유림\n",
      "C:\\Users\\유림\n"
     ]
    }
   ],
   "source": [
    "import os # 운영체제\n",
    "\n",
    "print(os.getlogin()) # 현재 컴퓨터에 어떠한 계정으로 로그인 되어 있는지\n",
    "print(os.getcwd()) # 이 파일이 있는 폴더의 경로"
   ]
  },
  {
   "cell_type": "markdown",
   "metadata": {},
   "source": [
    "스탠다드 라이브러리에 있는 random 모듈은 랜덤한 숫자를 생성하기 위한 다양한 함수들을 제공해 줍니다."
   ]
  },
  {
   "cell_type": "code",
   "execution_count": 8,
   "metadata": {},
   "outputs": [
    {
     "name": "stdout",
     "output_type": "stream",
     "text": [
      "2\n",
      "18\n",
      "6\n",
      "3\n",
      "17\n"
     ]
    }
   ],
   "source": [
    "# randint 함수\n",
    "# randint는 두 수 사이의 어떤 랜덤한 정수를 리턴하는 함수\n",
    "\n",
    "import random\n",
    "\n",
    "print(random.randint(1, 20))\n",
    "print(random.randint(1, 20))\n",
    "print(random.randint(1, 20))\n",
    "print(random.randint(1, 20))\n",
    "print(random.randint(1, 20))"
   ]
  },
  {
   "cell_type": "code",
   "execution_count": 9,
   "metadata": {},
   "outputs": [
    {
     "name": "stdout",
     "output_type": "stream",
     "text": [
      "0.6516199341568918\n",
      "0.007083668319775804\n",
      "0.15654179916157585\n",
      "0.32922063415801717\n",
      "0.5414120545427294\n"
     ]
    }
   ],
   "source": [
    "# uniform 함수\n",
    "# uniform은 두 수 사이의 랜덤한 소수를 리턴하는 함수\n",
    "\n",
    "import random\n",
    "\n",
    "print(random.uniform(0, 1))\n",
    "print(random.uniform(0, 1))\n",
    "print(random.uniform(0, 1))\n",
    "print(random.uniform(0, 1))\n",
    "print(random.uniform(0, 1))"
   ]
  },
  {
   "cell_type": "markdown",
   "metadata": {},
   "source": [
    "스탠다드 라이브러리에 있는 datetime 모듈은 '날짜'와 '시간'을 다루기 위한 다양한 '클래스'를 갖추고 있습니다."
   ]
  },
  {
   "cell_type": "code",
   "execution_count": 11,
   "metadata": {},
   "outputs": [
    {
     "name": "stdout",
     "output_type": "stream",
     "text": [
      "2020-03-14 00:00:00\n",
      "<class 'datetime.datetime'>\n"
     ]
    }
   ],
   "source": [
    "# datetime 값 생성\n",
    "\n",
    "import datetime\n",
    "\n",
    "pi_day = datetime.datetime(2020, 3, 14)\n",
    "print(pi_day)\n",
    "print(type(pi_day))"
   ]
  },
  {
   "cell_type": "code",
   "execution_count": 13,
   "metadata": {},
   "outputs": [
    {
     "name": "stdout",
     "output_type": "stream",
     "text": [
      "2020-03-14 13:06:15\n",
      "<class 'datetime.datetime'>\n"
     ]
    }
   ],
   "source": [
    "# 시간까지도 직접 정할 수 있습니다.\n",
    "\n",
    "pi_day = datetime.datetime(2020, 3, 14, 13, 6, 15)\n",
    "print(pi_day)\n",
    "print(type(pi_day))"
   ]
  },
  {
   "cell_type": "code",
   "execution_count": 14,
   "metadata": {},
   "outputs": [
    {
     "name": "stdout",
     "output_type": "stream",
     "text": [
      "2021-12-25 22:37:57.784172\n",
      "<class 'datetime.datetime'>\n"
     ]
    }
   ],
   "source": [
    "# 오늘 날짜 (코드를 실행한 '지금 이 순간'의 날짜와 시간을 받아 오고 싶다면?)\n",
    "\n",
    "today = datetime.datetime.now()\n",
    "print(today)\n",
    "print(type(today))"
   ]
  },
  {
   "cell_type": "code",
   "execution_count": 15,
   "metadata": {},
   "outputs": [
    {
     "name": "stdout",
     "output_type": "stream",
     "text": [
      "651 days, 9:32:05.546157\n",
      "<class 'datetime.timedelta'>\n"
     ]
    }
   ],
   "source": [
    "# timedelta\n",
    "# 두 datetime 값 사이의 기간을 알고 싶으면, 마치 숫자 뺄셈을 하듯이 그냥 빼면 됩니다.\n",
    "\n",
    "today = datetime.datetime.now()\n",
    "pi_day = datetime.datetime(2020, 3, 14, 13, 6, 15)\n",
    "print(today - pi_day)\n",
    "print(type(today - pi_day))"
   ]
  },
  {
   "cell_type": "code",
   "execution_count": 16,
   "metadata": {},
   "outputs": [
    {
     "name": "stdout",
     "output_type": "stream",
     "text": [
      "2021-12-25 22:38:52.470676\n",
      "2021-12-31 01:49:42.470676\n"
     ]
    }
   ],
   "source": [
    "# 보시다시피 두 datetime 값을 빼면, timedelta라는 타입이 나오는데요.\n",
    "# 이건 날짜 간의 차이를 나타내는 타입이라고 생각하시면 됩니다.\n",
    "# 반대로 timedelta를 생성해서 datetime 값에 더해 줄 수도 있습니다.\n",
    "\n",
    "today = datetime.datetime.now()\n",
    "my_timedelta = datetime.timedelta(days=5, hours=3, minutes=10, seconds=50)\n",
    "\n",
    "print(today)\n",
    "print(today + my_timedelta)"
   ]
  },
  {
   "cell_type": "code",
   "execution_count": 17,
   "metadata": {},
   "outputs": [
    {
     "name": "stdout",
     "output_type": "stream",
     "text": [
      "2021-12-25 22:39:17.675026\n",
      "2021\n",
      "12\n",
      "25\n",
      "22\n",
      "39\n",
      "17\n",
      "675026\n"
     ]
    }
   ],
   "source": [
    "# datetime 해부하기\n",
    "# datetime 값에서 '연도'나 '월' 같은 값들을 추출하려면 어떻게 해야 할까요?\n",
    "\n",
    "today = datetime.datetime.now()\n",
    "\n",
    "print(today)\n",
    "print(today.year)  # 연도\n",
    "print(today.month)  # 월\n",
    "print(today.day)  # 일\n",
    "print(today.hour)  # 시\n",
    "print(today.minute)  # 분\n",
    "print(today.second)  # 초\n",
    "print(today.microsecond)  # 마이크로초"
   ]
  },
  {
   "cell_type": "code",
   "execution_count": 18,
   "metadata": {},
   "outputs": [
    {
     "name": "stdout",
     "output_type": "stream",
     "text": [
      "2021-12-25 22:39:43.072478\n",
      "Saturday, December 25th 2021\n"
     ]
    }
   ],
   "source": [
    "# datetime 포맷팅\n",
    "# datetime 값을 출력하면 별로 예쁘지 않습니다.\n",
    "# 하지만 strftime을 사용하면, 우리 입맛대로 바꿀 수 있습니다.\n",
    "\n",
    "today = datetime.datetime.now()\n",
    "\n",
    "print(today)\n",
    "print(today.strftime(\"%A, %B %dth %Y\"))"
   ]
  },
  {
   "cell_type": "markdown",
   "metadata": {},
   "source": [
    "input : input함수가 받는 사용자 입력은 항상 문자열"
   ]
  },
  {
   "cell_type": "code",
   "execution_count": 19,
   "metadata": {},
   "outputs": [
    {
     "name": "stdout",
     "output_type": "stream",
     "text": [
      "이름을 입력하세요: 도토리\n",
      "도토리\n"
     ]
    }
   ],
   "source": [
    "name = input(\"이름을 입력하세요: \")\n",
    "print(name)"
   ]
  },
  {
   "cell_type": "code",
   "execution_count": 20,
   "metadata": {},
   "outputs": [
    {
     "name": "stdout",
     "output_type": "stream",
     "text": [
      "숫자를 입력하세요: 7\n",
      "12\n"
     ]
    }
   ],
   "source": [
    "x = int(input(\"숫자를 입력하세요: \"))\n",
    "print(x + 5)"
   ]
  },
  {
   "cell_type": "markdown",
   "metadata": {},
   "source": [
    "### 실습과제\n",
    "\n",
    "1과 20 사이의 숫자를 맞히는 게임을 만들려고 합니다.\n",
    "random 모듈과 input 함수를 활용하여 프로그램을 만들어 보세요.\n",
    "\n",
    "* 진행 방식\n",
    "\n",
    "프로그램을 실행하면 \"기회가 *번 남았습니다. 1-20 사이의 숫자를 맞혀 보세요: \"가 출력됩니다.\n",
    "\n",
    "총 네 번의 기회가 주어지며, 사용자가 한 번 추측할 때마다 남은 기회 횟수가 줄어듭니다.\n",
    "정답을 맞히면 \"축하합니다. *번 만에 숫자를 맞히셨습니다.\"가 출력되고 프로그램은 종료됩니다.\n",
    "\n",
    "사용자가 입력한 수가 정답보다 작은 경우 \"Up\"이 출력되고, 입력한 수가 정답보다 큰 경우 \"Down\"이 출력됩니다.\n",
    "\n",
    "정답이 틀렸으면 1번부터 다시 진행합니다.\n",
    "만약 네 번의 기회를 모두 사용했는데도 답을 맞히지 못했으면,\n",
    "\"아쉽습니다. 정답은 *입니다.\"가 출력되고 프로그램은 종료됩니다"
   ]
  },
  {
   "cell_type": "code",
   "execution_count": 34,
   "metadata": {},
   "outputs": [
    {
     "name": "stdout",
     "output_type": "stream",
     "text": [
      "기회가 4번 남았습니다. 1-20 사이의 숫자를 맞혀 보세요: 6\n",
      "Up\n",
      "기회가 3번 남았습니다. 1-20 사이의 숫자를 맞혀 보세요: 7\n",
      "Up\n",
      "기회가 2번 남았습니다. 1-20 사이의 숫자를 맞혀 보세요: 19\n",
      "Down\n",
      "기회가 1번 남았습니다. 1-20 사이의 숫자를 맞혀 보세요: 14\n",
      "Down\n",
      "아쉽습니다. 정답은 10입니다.\n"
     ]
    }
   ],
   "source": [
    "import random\n",
    "\n",
    "answer = random.randint(1, 20)\n",
    "\n",
    "x = int(input(\"기회가 4번 남았습니다. 1-20 사이의 숫자를 맞혀 보세요: \"))\n",
    "\n",
    "for i in range(1,5):\n",
    "    if answer == x :\n",
    "        print(\"축하합니다. {}번만에 숫자를 맞히셨습니다.\".format(i))\n",
    "        break\n",
    "    \n",
    "    elif answer > x and i == 4 :\n",
    "         print(\"Up\")\n",
    "        \n",
    "    elif answer < x and i == 4 :\n",
    "         print(\"Down\")\n",
    "        \n",
    "    elif answer > x :\n",
    "        print(\"Up\")\n",
    "        x = int(input(\"기회가 {}번 남았습니다. 1-20 사이의 숫자를 맞혀 보세요: \".format(4-i)))\n",
    "        \n",
    "    elif answer < x :\n",
    "        print(\"Down\")\n",
    "        x = int(input(\"기회가 {}번 남았습니다. 1-20 사이의 숫자를 맞혀 보세요: \".format(4-i)))\n",
    "\n",
    "\n",
    "print(\"아쉽습니다. 정답은 {}입니다.\".format(answer))"
   ]
  },
  {
   "cell_type": "code",
   "execution_count": 29,
   "metadata": {},
   "outputs": [
    {
     "name": "stdout",
     "output_type": "stream",
     "text": [
      "기회가 4번 남았습니다. 1-20 사이의 숫자를 맞혀보세요: 3\n",
      "Up\n",
      "기회가 3번 남았습니다. 1-20 사이의 숫자를 맞혀보세요: 6\n",
      "Up\n",
      "기회가 2번 남았습니다. 1-20 사이의 숫자를 맞혀보세요: 8\n",
      "Up\n",
      "기회가 1번 남았습니다. 1-20 사이의 숫자를 맞혀보세요: 11\n",
      "Down\n",
      "아쉽습니다. 정답은 10입니다.\n"
     ]
    }
   ],
   "source": [
    "# 모범답안\n",
    "\n",
    "import random\n",
    "\n",
    "# 상수 정의\n",
    "ANSWER = random.randint(1, 20)\n",
    "NUM_TRIES = 4\n",
    "\n",
    "# 변수 정의\n",
    "guess = -1\n",
    "tries = 0\n",
    "\n",
    "while guess != ANSWER and tries < NUM_TRIES:\n",
    "    guess = int(input(\"기회가 {}번 남았습니다. 1-20 사이의 숫자를 맞혀보세요: \".format(NUM_TRIES - tries)))\n",
    "    tries += 1    \n",
    "    \n",
    "    if ANSWER > guess:\n",
    "        print(\"Up\")\n",
    "    elif ANSWER < guess:\n",
    "        print(\"Down\")\n",
    "\n",
    "if guess == ANSWER:\n",
    "    print(\"축하합니다. {}번 만에 숫자를 맞히셨습니다.\".format(tries))\n",
    "else:\n",
    "    print(\"아쉽습니다. 정답은 {}입니다.\".format(ANSWER))"
   ]
  },
  {
   "cell_type": "markdown",
   "metadata": {},
   "source": [
    "파일 읽고 쓰기"
   ]
  },
  {
   "cell_type": "code",
   "execution_count": null,
   "metadata": {},
   "outputs": [],
   "source": [
    "# 파이썬 파일과 같은 폴더에 chicken.txt 라는 파일이 있다\n",
    "\n",
    "with open('chicken.txt', 'r') as f: # 읽는다의 약자인 r, 읽어들인 파일을 f라는 변수에 저장\n",
    "    \n",
    "# 다른 폴더에 있다면? (예를 들어 .. txt 파일이 data 폴더에 있다면?)\n",
    "\n",
    "with open('data/chicken.txt', 'r') as f: # 읽는다의 약자인 r , 읽어들인 파일을 f라는 변수에 저장"
   ]
  },
  {
   "cell_type": "code",
   "execution_count": null,
   "metadata": {},
   "outputs": [],
   "source": [
    "with open('data/chicken.txt', 'r') as f:\n",
    "    for line in f:\n",
    "        print(line) # 이렇게 하면 txt 파일 값이 나오는데.. 자세한건 굿노트 참고"
   ]
  },
  {
   "cell_type": "code",
   "execution_count": 2,
   "metadata": {},
   "outputs": [
    {
     "name": "stdout",
     "output_type": "stream",
     "text": [
      "abc    def\n",
      "abc    def\n"
     ]
    }
   ],
   "source": [
    "# strip (앞, 뒤 while space를 제거)\n",
    "\n",
    "print(\"              abc    def       \".strip())\n",
    "print(\"       \\t    \\n   abc    def\\n\\n\\n\".strip())"
   ]
  },
  {
   "cell_type": "code",
   "execution_count": null,
   "metadata": {},
   "outputs": [],
   "source": [
    "with open('data/chicken.txt', 'r') as f:\n",
    "    for line in f:\n",
    "        print(line.strip()) # 이러면 한 줄씩 안 띄어지고 연달아 나옴"
   ]
  },
  {
   "cell_type": "code",
   "execution_count": 5,
   "metadata": {},
   "outputs": [
    {
     "name": "stdout",
     "output_type": "stream",
     "text": [
      "['1', ' 2', ' 3', ' 4', ' 5', ' 6']\n",
      "['1', '2', '3', '4', '5', '6']\n"
     ]
    }
   ],
   "source": [
    "# split\n",
    "\n",
    "my_string = '1, 2, 3, 4, 5, 6'\n",
    "print(my_string.split(\",\"))\n",
    "print(my_string.split(\", \"))"
   ]
  },
  {
   "cell_type": "code",
   "execution_count": 10,
   "metadata": {},
   "outputs": [
    {
     "name": "stdout",
     "output_type": "stream",
     "text": [
      "Yuna Kim\n"
     ]
    }
   ],
   "source": [
    "full_name = \"Kim, Yuna\"\n",
    "name_data = full_name.split(\", \")\n",
    "last_name = name_data[0]\n",
    "first_name = name_data[1]\n",
    "\n",
    "print(first_name, last_name)"
   ]
  },
  {
   "cell_type": "code",
   "execution_count": 15,
   "metadata": {},
   "outputs": [
    {
     "name": "stdout",
     "output_type": "stream",
     "text": [
      "['2', '3', '5', '7', '11']\n"
     ]
    }
   ],
   "source": [
    "print(\"    \\n\\n   2   \\t  3  \\n  5  7  11   \\n\\n\".split())\n",
    "\n",
    "# 화이트 스페이스를 기반으로 나누고 싶으면, 파라미터를 안 넘겨주면 된다."
   ]
  },
  {
   "cell_type": "code",
   "execution_count": 17,
   "metadata": {},
   "outputs": [
    {
     "name": "stdout",
     "output_type": "stream",
     "text": [
      "23\n",
      "5\n"
     ]
    }
   ],
   "source": [
    "numbers = \"    \\n\\n   2   \\t  3  \\n  5  7  11   \\n\\n\".split()\n",
    "\n",
    "print(numbers[0] + numbers[1])\n",
    "print(int(numbers[0]) + int(numbers[1]))"
   ]
  },
  {
   "cell_type": "markdown",
   "metadata": {},
   "source": [
    "< 실습과제 >\n",
    "\n",
    "밑에 나와 있는 chicken.txt 파일을 보세요.\n",
    "제가 운영하는 치킨집 '코딩에빠진닭(이하 코빠닭)'의 12월 매출이 정리되어 있습니다.\n",
    "\n",
    "15일: 482300\n",
    "16일: 391400\n",
    "17일: 512500 .....\n",
    "    \n",
    ":의 왼쪽에는 해달 월의 며칠인지, 그리고 오른쪽에는 그 날의 매출이 적혀 있습니다.\n",
    "\n",
    "data 폴더의 chicken.txt 파일을 읽어 들이고, strip과 split을 써서 12월 코빠닭의 하루 평균 매출을 출력하세요. 평균을 구하기 위해서는 총 매출을 총 일수로 나누면 됩니다.\n",
    "\n",
    "참고로 현재 제공된 파일에는 31일이 있지만, 어떤 달은 31일이 아닐 수도 있습니다. 이 점을 고려해서 확장성 있는 코드를 작성해 주시길 바랍니다.\n",
    "\n",
    "출력 결과는 아래와 같습니다.    "
   ]
  },
  {
   "cell_type": "code",
   "execution_count": null,
   "metadata": {},
   "outputs": [],
   "source": [
    "with open('data/chicken.txt', 'r') as f:\n",
    "    \n",
    "    a = 0\n",
    "    \n",
    "    for line in f:\n",
    "        value = line.strip()\n",
    "        price = value.split(\"일: \")\n",
    "        a += int(price[1])\n",
    "        \n",
    "    if int(price[0]) == 31 :\n",
    "        print(a/31)\n",
    "    else :\n",
    "        print(a/30)"
   ]
  },
  {
   "cell_type": "code",
   "execution_count": null,
   "metadata": {},
   "outputs": [],
   "source": [
    "# 모범답안\n",
    "\n",
    "with open('data/chicken.txt', 'r') as f:\n",
    "    total_revenue = 0\n",
    "    total_days = 0\n",
    "    \n",
    "    for line in f:\n",
    "        data = line.strip().split(\": \")\n",
    "        revenue = int(data[1])  # 그날의 매출\n",
    "\n",
    "        total_revenue += revenue\n",
    "        total_days += 1\n",
    "\n",
    "    print(total_revenue / total_days)"
   ]
  },
  {
   "cell_type": "code",
   "execution_count": null,
   "metadata": {},
   "outputs": [],
   "source": [
    "# 파일 쓰기\n",
    "\n",
    "with open('new_file.txt', 'w') as f:\n",
    "    f.write(\"Hello World!\")\n",
    "    f.wirte(\"My name is Codeit.\")\n",
    "    \n",
    "# 이러면 Hello World!My name is Codeit. 이 출력됨"
   ]
  },
  {
   "cell_type": "code",
   "execution_count": null,
   "metadata": {},
   "outputs": [],
   "source": [
    "# 줄바꿈 해주면 됨. 근데 w는 새로 쓰면 덮어쓰기 됨\n",
    "\n",
    "with open('new_file.txt', 'w') as f:\n",
    "    f.write(\"Hello World!\\n\")\n",
    "    f.wirte(\"My name is Codeit.\\n\")"
   ]
  },
  {
   "cell_type": "code",
   "execution_count": null,
   "metadata": {},
   "outputs": [],
   "source": [
    "with open('new_file.txt', 'a') as f: # 그럴땐 a로 쓰면 됨 (덮어쓰기 아니고 추가)\n",
    "    f.write(\"Hello World!\\n\")\n",
    "    f.wirte(\"My name is Codeit.\\n\")"
   ]
  },
  {
   "cell_type": "markdown",
   "metadata": {},
   "source": [
    "< 실습과제 >\n",
    "\n",
    "영어 강사 Coy는 학생들의 단어 암기를 위해 단어장 프로그램을 만들려고 합니다.\n",
    "\n",
    "이 프로그램은 콘솔로 영어 단어와 한국어 뜻을 받고,\n",
    "vocabulary.txt라는 새로운 텍스트 파일에 단어와 뜻을 정리하는데요.\n",
    "사용자가 새로운 단어와 뜻을 입력할 때마다 vocabulary.txt에 작성되는 것입니다.\n",
    "\n",
    "사용자는 반복적으로 단어와 뜻을 입력하는데,\n",
    "단어나 뜻으로 q를 입력하는 순간 프로그램은 즉시 종료됩니다.\n",
    "사용자가 q를 입력하고 나면 파일은 더 이상 바뀌지 않아야 합니다."
   ]
  },
  {
   "cell_type": "code",
   "execution_count": null,
   "metadata": {},
   "outputs": [],
   "source": [
    "with open('vocabulary.txt', 'w') as f:\n",
    "    while True:\n",
    "        english_word = input('영어 단어를 입력하세요: ')    \n",
    "        if english_word == 'q':\n",
    "            break\n",
    "        \n",
    "        korean_word = input('한국어 뜻을 입력하세요: ')\n",
    "        if korean_word == 'q':\n",
    "            break\n",
    "        \n",
    "        f.write('{}: {}\\n'.format(english_word, korean_word))"
   ]
  },
  {
   "cell_type": "markdown",
   "metadata": {},
   "source": [
    "< 실습과제 >\n",
    "\n",
    "앞선 실습 과제에서 vocabulary.txt라는 파일을 만들었죠?\n",
    "이 파일에는 우리가 암기하고 싶은 단어들이 정리되어 있는데요.\n",
    "이번에는 이 파일의 단어들을 가지고 학생들에게 문제를 내 주는 프로그램을 만들려고 합니다.\n",
    "\n",
    "프로그램은 콘솔에 한국어 뜻을 알려 줄 것이고, 사용자는 그에 맞는 영어 단어를 입력해야 합니다.\n",
    "사용자가 입력한 영어 단어가 정답이면 \"맞았습니다!\"라고 출력하고,\n",
    "틀리면 \"아쉽습니다. 정답은 OOO입니다.\"가 출력되어야 합니다.\n",
    "\n",
    "문제를 내는 순서는 vocabulary.txt에 정리된 순서입니다."
   ]
  },
  {
   "cell_type": "code",
   "execution_count": null,
   "metadata": {},
   "outputs": [],
   "source": [
    "with open('vocabulary.txt', 'r') as f:\n",
    "    for line in f:\n",
    "        data = line.strip().split(\": \")\n",
    "        english_word, korean_word = data[0], data[1]\n",
    "        \n",
    "        # 유저 입력값 받기\n",
    "        guess = input(\"{}: \".format(korean_word))\n",
    "        \n",
    "        # 정답 확인하기\n",
    "        if guess == english_word:\n",
    "            print(\"맞았습니다!\\n\")\n",
    "        else:\n",
    "            print(\"아쉽습니다. 정답은 {}입니다.\\n\".format(english_word))"
   ]
  },
  {
   "cell_type": "markdown",
   "metadata": {},
   "source": [
    "< 실습 과제 >\n",
    "\n",
    "지난 실습 과제에서 단어장 퀴즈 프로그램을 만들었는데요.\n",
    "학생들이 문제의 순서가 매번 똑같아서 재미가 없다고 합니다.\n",
    "\n",
    "이번에는 random 모듈과 사전(dictionary)을 이용해서,\n",
    "vocabulary.txt의 단어들을 랜덤한 순서로 내도록 프로그램을 바꿔 보세요.\n",
    "\n",
    "같은 단어를 여러번 물어봐도 괜찮고, 프로그램은 사용자가 알파벳 q를 입력할 때까지 계속 실행됩니다."
   ]
  },
  {
   "cell_type": "code",
   "execution_count": null,
   "metadata": {},
   "outputs": [],
   "source": [
    "import random\n",
    "\n",
    "# 사전 만들기\n",
    "vocab = {}\n",
    "with open('vocabulary.txt', 'r') as f:\n",
    "    for line in f:\n",
    "        data = line.strip().split(\": \")\n",
    "        english_word, korean_word = data[0], data[1]\n",
    "        vocab[english_word] = korean_word\n",
    "\n",
    "# 목록 가져오기\n",
    "keys = list(vocab.keys())\n",
    "\n",
    "# 문제 내기\n",
    "while True:\n",
    "    # 랜덤한 문제 받아오기\n",
    "    index = random.randint(0, len(keys) - 1)\n",
    "    english_word = keys[index]\n",
    "    korean_word = vocab[english_word]\n",
    "    \n",
    "    # 유저 입력값 받기\n",
    "    guess = input(\"{}: \".format(korean_word))\n",
    "    \n",
    "    # 프로그램 끝내기\n",
    "    if guess == 'q':\n",
    "        break\n",
    "    \n",
    "    # 정답 확인하기\n",
    "    if guess == english_word:\n",
    "        print(\"정답입니다!\\n\")\n",
    "    else:\n",
    "        print(\"아쉽습니다. 정답은 {}입니다.\\n\".format(english_word))"
   ]
  }
 ],
 "metadata": {
  "kernelspec": {
   "display_name": "Python 3",
   "language": "python",
   "name": "python3"
  },
  "language_info": {
   "codemirror_mode": {
    "name": "ipython",
    "version": 3
   },
   "file_extension": ".py",
   "mimetype": "text/x-python",
   "name": "python",
   "nbconvert_exporter": "python",
   "pygments_lexer": "ipython3",
   "version": "3.8.5"
  }
 },
 "nbformat": 4,
 "nbformat_minor": 4
}
